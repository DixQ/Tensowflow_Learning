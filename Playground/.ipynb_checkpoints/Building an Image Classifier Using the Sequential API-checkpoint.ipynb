{
 "cells": [
  {
   "cell_type": "markdown",
   "metadata": {},
   "source": [
    "# Package import"
   ]
  },
  {
   "cell_type": "code",
   "execution_count": 1,
   "metadata": {},
   "outputs": [],
   "source": [
    "import tensorflow as tf\n",
    "from tensorflow import keras\n",
    "import pandas as pd\n",
    "import matplotlib.pyplot as plt"
   ]
  },
  {
   "cell_type": "markdown",
   "metadata": {},
   "source": [
    "# Parameters"
   ]
  },
  {
   "cell_type": "code",
   "execution_count": 2,
   "metadata": {},
   "outputs": [],
   "source": [
    "valid_perc = 0.1"
   ]
  },
  {
   "cell_type": "code",
   "execution_count": 3,
   "metadata": {},
   "outputs": [],
   "source": [
    "# For Fashion MNIST we need the list of class names to know what we are dealing with\n",
    "class_names = [\"T-shirt/top\", \"Trouser\", \"Pullover\", \"Dress\", \"Coat\", \"Sandal\", \"Shirt\", \"Sneaker\", \"Bag\", \"Ankle boot\"]"
   ]
  },
  {
   "cell_type": "markdown",
   "metadata": {},
   "source": [
    "# Data Load"
   ]
  },
  {
   "cell_type": "code",
   "execution_count": 4,
   "metadata": {},
   "outputs": [],
   "source": [
    "fashion_mnist = keras.datasets.fashion_mnist\n",
    "(X_train_full, y_train_full), (X_test, y_test) = fashion_mnist.load_data()"
   ]
  },
  {
   "cell_type": "code",
   "execution_count": 5,
   "metadata": {},
   "outputs": [
    {
     "name": "stdout",
     "output_type": "stream",
     "text": [
      "Shape: (60000, 28, 28)\n",
      "Data Type: uint8\n"
     ]
    }
   ],
   "source": [
    "shape = X_train_full.shape\n",
    "print(\"Shape: \" + str(shape))\n",
    "\n",
    "data_type = X_train_full.dtype\n",
    "print(\"Data Type: \"  + str(data_type))"
   ]
  },
  {
   "cell_type": "code",
   "execution_count": 6,
   "metadata": {},
   "outputs": [
    {
     "data": {
      "text/plain": [
       "'T-shirt/top'"
      ]
     },
     "execution_count": 6,
     "metadata": {},
     "output_type": "execute_result"
    }
   ],
   "source": [
    "class_names[y_train_full[1]]"
   ]
  },
  {
   "cell_type": "markdown",
   "metadata": {},
   "source": [
    "# Data preparation"
   ]
  },
  {
   "cell_type": "code",
   "execution_count": 7,
   "metadata": {},
   "outputs": [],
   "source": [
    "num_valid_items = round(valid_perc*X_train_full.shape[0])"
   ]
  },
  {
   "cell_type": "code",
   "execution_count": 8,
   "metadata": {},
   "outputs": [],
   "source": [
    "X_valid, X_train = X_train_full[:num_valid_items] / 255.0, X_train_full[num_valid_items:] / 255.0\n",
    "y_valid, y_train = y_train_full[:num_valid_items], y_train_full[num_valid_items:]"
   ]
  },
  {
   "cell_type": "markdown",
   "metadata": {},
   "source": [
    "# Creating the model using the Sequential API"
   ]
  },
  {
   "cell_type": "code",
   "execution_count": 9,
   "metadata": {},
   "outputs": [],
   "source": [
    "model = keras.models.Sequential([\n",
    "    keras.layers.Flatten(input_shape = [shape[1], shape[2]]),\n",
    "    keras.layers.Dense(300, activation = 'relu'),\n",
    "    keras.layers.Dense(100, activation = 'relu'),\n",
    "    keras.layers.Dense(10, activation = 'softmax')\n",
    "])"
   ]
  },
  {
   "cell_type": "code",
   "execution_count": 10,
   "metadata": {},
   "outputs": [
    {
     "name": "stdout",
     "output_type": "stream",
     "text": [
      "Model: \"sequential\"\n",
      "_________________________________________________________________\n",
      "Layer (type)                 Output Shape              Param #   \n",
      "=================================================================\n",
      "flatten (Flatten)            (None, 784)               0         \n",
      "_________________________________________________________________\n",
      "dense (Dense)                (None, 300)               235500    \n",
      "_________________________________________________________________\n",
      "dense_1 (Dense)              (None, 100)               30100     \n",
      "_________________________________________________________________\n",
      "dense_2 (Dense)              (None, 10)                1010      \n",
      "=================================================================\n",
      "Total params: 266,610\n",
      "Trainable params: 266,610\n",
      "Non-trainable params: 0\n",
      "_________________________________________________________________\n"
     ]
    }
   ],
   "source": [
    "model.summary()"
   ]
  },
  {
   "cell_type": "code",
   "execution_count": 11,
   "metadata": {},
   "outputs": [],
   "source": [
    "model.compile(loss=\"sparse_categorical_crossentropy\", optimizer = \"sgd\", metrics = [\"accuracy\"])"
   ]
  },
  {
   "cell_type": "markdown",
   "metadata": {},
   "source": [
    "# Training and evaluating the model"
   ]
  },
  {
   "cell_type": "code",
   "execution_count": 12,
   "metadata": {},
   "outputs": [],
   "source": [
    "# history = model.fit(X_train_full / 255.0, y_train, epochs = 30, validation_split = valid_perc)"
   ]
  },
  {
   "cell_type": "code",
   "execution_count": null,
   "metadata": {},
   "outputs": [
    {
     "name": "stdout",
     "output_type": "stream",
     "text": [
      "Train on 54000 samples, validate on 6000 samples\n",
      "Epoch 1/30\n",
      "54000/54000 [==============================] - 4s 66us/sample - loss: 0.7286 - accuracy: 0.7621 - val_loss: 0.5342 - val_accuracy: 0.8160\n",
      "Epoch 2/30\n",
      "54000/54000 [==============================] - 3s 58us/sample - loss: 0.4877 - accuracy: 0.8303 - val_loss: 0.4554 - val_accuracy: 0.8465\n",
      "Epoch 3/30\n",
      "54000/54000 [==============================] - 3s 59us/sample - loss: 0.4434 - accuracy: 0.8444 - val_loss: 0.4248 - val_accuracy: 0.8563\n",
      "Epoch 4/30\n",
      "54000/54000 [==============================] - 3s 57us/sample - loss: 0.4152 - accuracy: 0.8532 - val_loss: 0.4136 - val_accuracy: 0.8590\n",
      "Epoch 5/30\n",
      "54000/54000 [==============================] - 3s 60us/sample - loss: 0.3956 - accuracy: 0.8609 - val_loss: 0.3896 - val_accuracy: 0.8618\n",
      "Epoch 6/30\n",
      "54000/54000 [==============================] - 3s 57us/sample - loss: 0.3790 - accuracy: 0.8658 - val_loss: 0.3779 - val_accuracy: 0.8645\n",
      "Epoch 7/30\n",
      "54000/54000 [==============================] - 3s 58us/sample - loss: 0.3666 - accuracy: 0.8711 - val_loss: 0.3748 - val_accuracy: 0.8700\n",
      "Epoch 8/30\n",
      "54000/54000 [==============================] - 3s 61us/sample - loss: 0.3539 - accuracy: 0.8749 - val_loss: 0.3599 - val_accuracy: 0.8703\n",
      "Epoch 9/30\n",
      "54000/54000 [==============================] - 3s 58us/sample - loss: 0.3455 - accuracy: 0.8761 - val_loss: 0.3596 - val_accuracy: 0.8725\n",
      "Epoch 10/30\n",
      "54000/54000 [==============================] - 3s 58us/sample - loss: 0.3351 - accuracy: 0.8804 - val_loss: 0.3555 - val_accuracy: 0.8725\n",
      "Epoch 11/30\n",
      "54000/54000 [==============================] - 3s 59us/sample - loss: 0.3280 - accuracy: 0.8833 - val_loss: 0.3547 - val_accuracy: 0.8737\n",
      "Epoch 12/30\n",
      "54000/54000 [==============================] - 3s 58us/sample - loss: 0.3192 - accuracy: 0.8865 - val_loss: 0.3422 - val_accuracy: 0.8758\n",
      "Epoch 13/30\n",
      "54000/54000 [==============================] - 3s 58us/sample - loss: 0.3118 - accuracy: 0.8887 - val_loss: 0.3293 - val_accuracy: 0.8808\n",
      "Epoch 14/30\n",
      "54000/54000 [==============================] - 3s 57us/sample - loss: 0.3057 - accuracy: 0.8904 - val_loss: 0.3331 - val_accuracy: 0.8793\n",
      "Epoch 15/30\n",
      "54000/54000 [==============================] - 3s 57us/sample - loss: 0.2990 - accuracy: 0.8918 - val_loss: 0.3319 - val_accuracy: 0.8778\n",
      "Epoch 16/30\n",
      "54000/54000 [==============================] - 3s 57us/sample - loss: 0.2921 - accuracy: 0.8956 - val_loss: 0.3850 - val_accuracy: 0.8558\n",
      "Epoch 17/30\n",
      "54000/54000 [==============================] - 3s 59us/sample - loss: 0.2874 - accuracy: 0.8964 - val_loss: 0.3195 - val_accuracy: 0.8832\n",
      "Epoch 18/30\n",
      "54000/54000 [==============================] - 3s 56us/sample - loss: 0.2814 - accuracy: 0.8986 - val_loss: 0.3148 - val_accuracy: 0.8860\n",
      "Epoch 19/30\n",
      "54000/54000 [==============================] - 3s 56us/sample - loss: 0.2768 - accuracy: 0.9003 - val_loss: 0.3524 - val_accuracy: 0.8687\n",
      "Epoch 20/30\n",
      "54000/54000 [==============================] - 3s 57us/sample - loss: 0.2723 - accuracy: 0.9018 - val_loss: 0.3147 - val_accuracy: 0.8853\n",
      "Epoch 21/30\n",
      "54000/54000 [==============================] - 3s 58us/sample - loss: 0.2663 - accuracy: 0.9039 - val_loss: 0.3209 - val_accuracy: 0.8847\n",
      "Epoch 22/30\n",
      "54000/54000 [==============================] - 3s 60us/sample - loss: 0.2617 - accuracy: 0.9053 - val_loss: 0.3215 - val_accuracy: 0.8853\n",
      "Epoch 23/30\n",
      "13568/54000 [======>.......................] - ETA: 2s - loss: 0.2535 - accuracy: 0.9082"
     ]
    }
   ],
   "source": [
    "history = model.fit(X_train, y_train, epochs = 30, validation_data = (X_valid, y_valid))"
   ]
  },
  {
   "cell_type": "markdown",
   "metadata": {},
   "source": [
    "# Results Analysis"
   ]
  },
  {
   "cell_type": "code",
   "execution_count": null,
   "metadata": {},
   "outputs": [],
   "source": [
    "pd.DataFrame(history.history).plot(figsize = (8,5))\n",
    "plt.grid(True)\n",
    "plt.gca().set_ylim(0,1) # set the vertical range to [0-1]\n",
    "plt.show()"
   ]
  },
  {
   "cell_type": "code",
   "execution_count": null,
   "metadata": {},
   "outputs": [],
   "source": [
    "# Test data evaluation\n",
    "model.evaluate(X_test, y_test)"
   ]
  },
  {
   "cell_type": "markdown",
   "metadata": {},
   "source": [
    "# Prediction"
   ]
  },
  {
   "cell_type": "code",
   "execution_count": null,
   "metadata": {},
   "outputs": [],
   "source": [
    "prediction_proba = model.predict_proba(X_test)"
   ]
  },
  {
   "cell_type": "code",
   "execution_count": null,
   "metadata": {},
   "outputs": [],
   "source": [
    "prediction = model.predict_classes(X_test)"
   ]
  },
  {
   "cell_type": "code",
   "execution_count": null,
   "metadata": {},
   "outputs": [],
   "source": [
    "print(\"Prediction for 3rd item: \" + str(prediction[2]))\n",
    "print(\"Actual 3rd item: \" + str(y_test[2]))"
   ]
  }
 ],
 "metadata": {
  "kernelspec": {
   "display_name": "Python 3",
   "language": "python",
   "name": "python3"
  },
  "language_info": {
   "codemirror_mode": {
    "name": "ipython",
    "version": 3
   },
   "file_extension": ".py",
   "mimetype": "text/x-python",
   "name": "python",
   "nbconvert_exporter": "python",
   "pygments_lexer": "ipython3",
   "version": "3.7.8"
  }
 },
 "nbformat": 4,
 "nbformat_minor": 4
}
