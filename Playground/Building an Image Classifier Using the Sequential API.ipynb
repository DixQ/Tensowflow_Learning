{
 "cells": [
  {
   "cell_type": "markdown",
   "metadata": {},
   "source": [
    "# Package import"
   ]
  },
  {
   "cell_type": "code",
   "execution_count": 19,
   "metadata": {},
   "outputs": [],
   "source": [
    "import tensorflow as tf\n",
    "from tensorflow import keras\n",
    "import pandas as pd\n",
    "import matplotlib.pyplot as plt"
   ]
  },
  {
   "cell_type": "markdown",
   "metadata": {},
   "source": [
    "# Parameters"
   ]
  },
  {
   "cell_type": "code",
   "execution_count": 20,
   "metadata": {},
   "outputs": [],
   "source": [
    "valid_perc = 0.1"
   ]
  },
  {
   "cell_type": "code",
   "execution_count": 21,
   "metadata": {},
   "outputs": [],
   "source": [
    "# For Fashion MNIST we need the list of class names to know what we are dealing with\n",
    "class_names = [\"T-shirt/top\", \"Trouser\", \"Pullover\", \"Dress\", \"Coat\", \"Sandal\", \"Shirt\", \"Sneaker\", \"Bag\", \"Ankle boot\"]"
   ]
  },
  {
   "cell_type": "markdown",
   "metadata": {},
   "source": [
    "# Data Load"
   ]
  },
  {
   "cell_type": "code",
   "execution_count": 22,
   "metadata": {},
   "outputs": [],
   "source": [
    "fashion_mnist = keras.datasets.fashion_mnist\n",
    "(X_train_full, y_train_full), (X_test, y_test) = fashion_mnist.load_data()"
   ]
  },
  {
   "cell_type": "code",
   "execution_count": 23,
   "metadata": {},
   "outputs": [
    {
     "name": "stdout",
     "output_type": "stream",
     "text": [
      "Shape: (60000, 28, 28)\n",
      "Data Type: uint8\n"
     ]
    }
   ],
   "source": [
    "shape = X_train_full.shape\n",
    "print(\"Shape: \" + str(shape))\n",
    "\n",
    "data_type = X_train_full.dtype\n",
    "print(\"Data Type: \"  + str(data_type))"
   ]
  },
  {
   "cell_type": "code",
   "execution_count": 24,
   "metadata": {},
   "outputs": [
    {
     "data": {
      "text/plain": [
       "'T-shirt/top'"
      ]
     },
     "execution_count": 24,
     "metadata": {},
     "output_type": "execute_result"
    }
   ],
   "source": [
    "class_names[y_train_full[1]]"
   ]
  },
  {
   "cell_type": "markdown",
   "metadata": {},
   "source": [
    "# Data preparation"
   ]
  },
  {
   "cell_type": "code",
   "execution_count": 25,
   "metadata": {},
   "outputs": [],
   "source": [
    "num_valid_items = round(valid_perc*X_train_full.shape[0])"
   ]
  },
  {
   "cell_type": "code",
   "execution_count": 26,
   "metadata": {},
   "outputs": [],
   "source": [
    "X_valid, X_train = X_train_full[:num_valid_items] / 255.0, X_train_full[num_valid_items:] / 255.0\n",
    "y_valid, y_train = y_train_full[:num_valid_items], y_train_full[num_valid_items:]"
   ]
  },
  {
   "cell_type": "markdown",
   "metadata": {},
   "source": [
    "# Creating the model using the Sequential API"
   ]
  },
  {
   "cell_type": "code",
   "execution_count": null,
   "metadata": {},
   "outputs": [],
   "source": [
    "model = keras.models.Sequential([\n",
    "    keras.layers.Flatten(input_shape = [shape[1], shape[2]]),\n",
    "    keras.layers.Dense(300, activation = 'relu'),\n",
    "    keras.layers.Dense(100, activation = 'relu'),\n",
    "    keras.layers.Dense(10, activation = 'softmax')\n",
    "])"
   ]
  },
  {
   "cell_type": "code",
   "execution_count": null,
   "metadata": {},
   "outputs": [],
   "source": [
    "model.summary()"
   ]
  },
  {
   "cell_type": "code",
   "execution_count": null,
   "metadata": {},
   "outputs": [],
   "source": [
    "model.compile(loss=\"sparse_categorical_crossentropy\", optimizer = \"sgd\", metrics = [\"accuracy\"])"
   ]
  },
  {
   "cell_type": "markdown",
   "metadata": {},
   "source": [
    "# Training the model"
   ]
  },
  {
   "cell_type": "code",
   "execution_count": 12,
   "metadata": {},
   "outputs": [],
   "source": [
    "# history = model.fit(X_train_full / 255.0, y_train, epochs = 30, validation_split = valid_perc)"
   ]
  },
  {
   "cell_type": "code",
   "execution_count": 13,
   "metadata": {},
   "outputs": [
    {
     "name": "stdout",
     "output_type": "stream",
     "text": [
      "Train on 54000 samples, validate on 6000 samples\n",
      "Epoch 1/30\n",
      "54000/54000 [==============================] - 4s 66us/sample - loss: 0.7286 - accuracy: 0.7621 - val_loss: 0.5342 - val_accuracy: 0.8160\n",
      "Epoch 2/30\n",
      "54000/54000 [==============================] - 3s 58us/sample - loss: 0.4877 - accuracy: 0.8303 - val_loss: 0.4554 - val_accuracy: 0.8465\n",
      "Epoch 3/30\n",
      "54000/54000 [==============================] - 3s 59us/sample - loss: 0.4434 - accuracy: 0.8444 - val_loss: 0.4248 - val_accuracy: 0.8563\n",
      "Epoch 4/30\n",
      "54000/54000 [==============================] - 3s 57us/sample - loss: 0.4152 - accuracy: 0.8532 - val_loss: 0.4136 - val_accuracy: 0.8590\n",
      "Epoch 5/30\n",
      "54000/54000 [==============================] - 3s 60us/sample - loss: 0.3956 - accuracy: 0.8609 - val_loss: 0.3896 - val_accuracy: 0.8618\n",
      "Epoch 6/30\n",
      "54000/54000 [==============================] - 3s 57us/sample - loss: 0.3790 - accuracy: 0.8658 - val_loss: 0.3779 - val_accuracy: 0.8645\n",
      "Epoch 7/30\n",
      "54000/54000 [==============================] - 3s 58us/sample - loss: 0.3666 - accuracy: 0.8711 - val_loss: 0.3748 - val_accuracy: 0.8700\n",
      "Epoch 8/30\n",
      "54000/54000 [==============================] - 3s 61us/sample - loss: 0.3539 - accuracy: 0.8749 - val_loss: 0.3599 - val_accuracy: 0.8703\n",
      "Epoch 9/30\n",
      "54000/54000 [==============================] - 3s 58us/sample - loss: 0.3455 - accuracy: 0.8761 - val_loss: 0.3596 - val_accuracy: 0.8725\n",
      "Epoch 10/30\n",
      "54000/54000 [==============================] - 3s 58us/sample - loss: 0.3351 - accuracy: 0.8804 - val_loss: 0.3555 - val_accuracy: 0.8725\n",
      "Epoch 11/30\n",
      "54000/54000 [==============================] - 3s 59us/sample - loss: 0.3280 - accuracy: 0.8833 - val_loss: 0.3547 - val_accuracy: 0.8737\n",
      "Epoch 12/30\n",
      "54000/54000 [==============================] - 3s 58us/sample - loss: 0.3192 - accuracy: 0.8865 - val_loss: 0.3422 - val_accuracy: 0.8758\n",
      "Epoch 13/30\n",
      "54000/54000 [==============================] - 3s 58us/sample - loss: 0.3118 - accuracy: 0.8887 - val_loss: 0.3293 - val_accuracy: 0.8808\n",
      "Epoch 14/30\n",
      "54000/54000 [==============================] - 3s 57us/sample - loss: 0.3057 - accuracy: 0.8904 - val_loss: 0.3331 - val_accuracy: 0.8793\n",
      "Epoch 15/30\n",
      "54000/54000 [==============================] - 3s 57us/sample - loss: 0.2990 - accuracy: 0.8918 - val_loss: 0.3319 - val_accuracy: 0.8778\n",
      "Epoch 16/30\n",
      "54000/54000 [==============================] - 3s 57us/sample - loss: 0.2921 - accuracy: 0.8956 - val_loss: 0.3850 - val_accuracy: 0.8558\n",
      "Epoch 17/30\n",
      "54000/54000 [==============================] - 3s 59us/sample - loss: 0.2874 - accuracy: 0.8964 - val_loss: 0.3195 - val_accuracy: 0.8832\n",
      "Epoch 18/30\n",
      "54000/54000 [==============================] - 3s 56us/sample - loss: 0.2814 - accuracy: 0.8986 - val_loss: 0.3148 - val_accuracy: 0.8860\n",
      "Epoch 19/30\n",
      "54000/54000 [==============================] - 3s 56us/sample - loss: 0.2768 - accuracy: 0.9003 - val_loss: 0.3524 - val_accuracy: 0.8687\n",
      "Epoch 20/30\n",
      "54000/54000 [==============================] - 3s 57us/sample - loss: 0.2723 - accuracy: 0.9018 - val_loss: 0.3147 - val_accuracy: 0.8853\n",
      "Epoch 21/30\n",
      "54000/54000 [==============================] - 3s 58us/sample - loss: 0.2663 - accuracy: 0.9039 - val_loss: 0.3209 - val_accuracy: 0.8847\n",
      "Epoch 22/30\n",
      "54000/54000 [==============================] - 3s 60us/sample - loss: 0.2617 - accuracy: 0.9053 - val_loss: 0.3215 - val_accuracy: 0.8853\n",
      "Epoch 23/30\n",
      "54000/54000 [==============================] - 3s 60us/sample - loss: 0.2567 - accuracy: 0.9060 - val_loss: 0.3088 - val_accuracy: 0.8888\n",
      "Epoch 24/30\n",
      "54000/54000 [==============================] - 3s 58us/sample - loss: 0.2528 - accuracy: 0.9091 - val_loss: 0.3168 - val_accuracy: 0.8860\n",
      "Epoch 25/30\n",
      "54000/54000 [==============================] - 3s 58us/sample - loss: 0.2478 - accuracy: 0.9108 - val_loss: 0.3104 - val_accuracy: 0.8827\n",
      "Epoch 26/30\n",
      "54000/54000 [==============================] - 3s 57us/sample - loss: 0.2447 - accuracy: 0.9117 - val_loss: 0.3135 - val_accuracy: 0.8852\n",
      "Epoch 27/30\n",
      "54000/54000 [==============================] - 3s 57us/sample - loss: 0.2408 - accuracy: 0.9132 - val_loss: 0.3090 - val_accuracy: 0.8853\n",
      "Epoch 28/30\n",
      "54000/54000 [==============================] - 3s 56us/sample - loss: 0.2367 - accuracy: 0.9151 - val_loss: 0.3118 - val_accuracy: 0.8875\n",
      "Epoch 29/30\n",
      "54000/54000 [==============================] - 3s 57us/sample - loss: 0.2327 - accuracy: 0.9163 - val_loss: 0.3132 - val_accuracy: 0.8843\n",
      "Epoch 30/30\n",
      "54000/54000 [==============================] - 3s 57us/sample - loss: 0.2289 - accuracy: 0.9181 - val_loss: 0.3079 - val_accuracy: 0.8878\n"
     ]
    }
   ],
   "source": [
    "history = model.fit(X_train, y_train, epochs = 30, validation_data = (X_valid, y_valid))"
   ]
  },
  {
   "cell_type": "markdown",
   "metadata": {},
   "source": [
    "# Results Analysis"
   ]
  },
  {
   "cell_type": "code",
   "execution_count": 14,
   "metadata": {},
   "outputs": [
    {
     "data": {
      "image/png": "[encoded data removed]",
      "text/plain": [
       "<Figure size 576x360 with 1 Axes>"
      ]
     },
     "metadata": {
      "needs_background": "light"
     },
     "output_type": "display_data"
    }
   ],
   "source": [
    "pd.DataFrame(history.history).plot(figsize = (8,5))\n",
    "plt.grid(True)\n",
    "plt.gca().set_ylim(0,1) # set the vertical range to [0-1]\n",
    "plt.show()"
   ]
  },
  {
   "cell_type": "code",
   "execution_count": 15,
   "metadata": {},
   "outputs": [
    {
     "name": "stdout",
     "output_type": "stream",
     "text": [
      "10000/10000 [==============================] - 0s 45us/sample - loss: 58.1118 - accuracy: 0.8625\n"
     ]
    },
    {
     "data": {
      "text/plain": [
       "[58.111823854064944, 0.8625]"
      ]
     },
     "execution_count": 15,
     "metadata": {},
     "output_type": "execute_result"
    }
   ],
   "source": [
    "# Test data evaluation\n",
    "model.evaluate(X_test, y_test)"
   ]
  },
  {
   "cell_type": "markdown",
   "metadata": {},
   "source": [
    "# Prediction"
   ]
  },
  {
   "cell_type": "code",
   "execution_count": 16,
   "metadata": {},
   "outputs": [],
   "source": [
    "prediction_proba = model.predict_proba(X_test)"
   ]
  },
  {
   "cell_type": "code",
   "execution_count": 17,
   "metadata": {},
   "outputs": [],
   "source": [
    "prediction = model.predict_classes(X_test)"
   ]
  },
  {
   "cell_type": "code",
   "execution_count": 18,
   "metadata": {},
   "outputs": [
    {
     "name": "stdout",
     "output_type": "stream",
     "text": [
      "Prediction for 3rd item: 1\n",
      "Actual 3rd item: 1\n"
     ]
    }
   ],
   "source": [
    "print(\"Prediction for 3rd item: \" + str(prediction[2]))\n",
    "print(\"Actual 3rd item: \" + str(y_test[2]))"
   ]
  }
 ],
 "metadata": {
  "kernelspec": {
   "display_name": "Python 3",
   "language": "python",
   "name": "python3"
  },
  "language_info": {
   "codemirror_mode": {
    "name": "ipython",
    "version": 3
   },
   "file_extension": ".py",
   "mimetype": "text/x-python",
   "name": "python",
   "nbconvert_exporter": "python",
   "pygments_lexer": "ipython3",
   "version": "3.7.8"
  }
 },
 "nbformat": 4,
 "nbformat_minor": 4
}
