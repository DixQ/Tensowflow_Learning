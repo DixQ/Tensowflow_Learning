{
 "cells": [
  {
   "cell_type": "code",
   "execution_count": 1,
   "metadata": {},
   "outputs": [],
   "source": [
    "from tensorflow.keras.preprocessing.sequence import pad_sequences\n",
    "from tensorflow.keras.layers import Embedding, LSTM, Dense, Dropout, Bidirectional\n",
    "from tensorflow.keras.preprocessing.text import Tokenizer\n",
    "from tensorflow.keras.models import Sequential\n",
    "from tensorflow.keras.optimizers import Adam\n",
    "from tensorflow.keras import regularizers\n",
    "import tensorflow.keras.utils as ku \n",
    "import numpy as np "
   ]
  },
  {
   "cell_type": "code",
   "execution_count": 2,
   "metadata": {},
   "outputs": [],
   "source": [
    "import tensorflow as tf\n",
    "physical_devices = tf.config.list_physical_devices('GPU') \n",
    "tf.config.experimental.set_memory_growth(physical_devices[0], True)"
   ]
  },
  {
   "cell_type": "markdown",
   "metadata": {},
   "source": [
    "# Data"
   ]
  },
  {
   "cell_type": "code",
   "execution_count": 3,
   "metadata": {},
   "outputs": [],
   "source": [
    "path_to_file = \"Shakespeare.txt\"\n",
    "text = open(path_to_file, 'r').read()"
   ]
  },
  {
   "cell_type": "code",
   "execution_count": 5,
   "metadata": {},
   "outputs": [],
   "source": [
    "tokenizer = Tokenizer()"
   ]
  },
  {
   "cell_type": "code",
   "execution_count": 6,
   "metadata": {},
   "outputs": [],
   "source": [
    "corpus = text.lower().split(\"\\n\")\n",
    "\n",
    "tokenizer.fit_on_texts(corpus)\n",
    "total_words = len(tokenizer.word_index) + 1"
   ]
  },
  {
   "cell_type": "code",
   "execution_count": 23,
   "metadata": {},
   "outputs": [],
   "source": [
    "input_sequences = []\n",
    "for line in corpus:\n",
    "    token_list = tokenizer.texts_to_sequences([line])[0]\n",
    "    for i in range(1, len(token_list)):\n",
    "        n_gram_sequence = token_list[:i+1]\n",
    "        input_sequences.append(n_gram_sequence)"
   ]
  },
  {
   "cell_type": "code",
   "execution_count": 24,
   "metadata": {},
   "outputs": [],
   "source": [
    "# pad sequences \n",
    "max_sequence_len = max([len(x) for x in input_sequences])\n",
    "input_sequences = np.array(pad_sequences(input_sequences, maxlen=max_sequence_len, padding='pre'))"
   ]
  },
  {
   "cell_type": "code",
   "execution_count": 25,
   "metadata": {},
   "outputs": [
    {
     "data": {
      "text/plain": [
       "array([[   0,    0,    0, ...,    0,   34,  417],\n",
       "       [   0,    0,    0, ...,   34,  417,  877],\n",
       "       [   0,    0,    0, ...,  417,  877,  166],\n",
       "       ...,\n",
       "       [   0,    0,    0, ...,  493,  493, 3210],\n",
       "       [   0,    0,    0, ...,  493, 3210,   15],\n",
       "       [   0,    0,    0, ..., 3210,   15,   14]])"
      ]
     },
     "execution_count": 25,
     "metadata": {},
     "output_type": "execute_result"
    }
   ],
   "source": [
    "input_sequences"
   ]
  },
  {
   "cell_type": "code",
   "execution_count": 32,
   "metadata": {},
   "outputs": [],
   "source": [
    "# create predictors and label\n",
    "predictors, label = input_sequences[:,:-1],input_sequences[:,-1]"
   ]
  },
  {
   "cell_type": "code",
   "execution_count": 33,
   "metadata": {},
   "outputs": [
    {
     "data": {
      "text/plain": [
       "array([[   0,    0,    0, ...,    0,    0,   34],\n",
       "       [   0,    0,    0, ...,    0,   34,  417],\n",
       "       [   0,    0,    0, ...,   34,  417,  877],\n",
       "       ...,\n",
       "       [   0,    0,    0, ..., 3209,  493,  493],\n",
       "       [   0,    0,    0, ...,  493,  493, 3210],\n",
       "       [   0,    0,    0, ...,  493, 3210,   15]])"
      ]
     },
     "execution_count": 33,
     "metadata": {},
     "output_type": "execute_result"
    }
   ],
   "source": [
    "predictors"
   ]
  },
  {
   "cell_type": "code",
   "execution_count": 34,
   "metadata": {},
   "outputs": [
    {
     "data": {
      "text/plain": [
       "array([ 417,  877,  166, ..., 3210,   15,   14])"
      ]
     },
     "execution_count": 34,
     "metadata": {},
     "output_type": "execute_result"
    }
   ],
   "source": [
    "label"
   ]
  },
  {
   "cell_type": "code",
   "execution_count": 35,
   "metadata": {},
   "outputs": [],
   "source": [
    "label = ku.to_categorical(label, num_classes=total_words)"
   ]
  },
  {
   "cell_type": "code",
   "execution_count": 36,
   "metadata": {},
   "outputs": [
    {
     "data": {
      "text/plain": [
       "array([[0., 0., 0., ..., 0., 0., 0.],\n",
       "       [0., 0., 0., ..., 0., 0., 0.],\n",
       "       [0., 0., 0., ..., 0., 0., 0.],\n",
       "       ...,\n",
       "       [0., 0., 0., ..., 0., 0., 1.],\n",
       "       [0., 0., 0., ..., 0., 0., 0.],\n",
       "       [0., 0., 0., ..., 0., 0., 0.]], dtype=float32)"
      ]
     },
     "execution_count": 36,
     "metadata": {},
     "output_type": "execute_result"
    }
   ],
   "source": [
    "label"
   ]
  },
  {
   "cell_type": "code",
   "execution_count": 37,
   "metadata": {},
   "outputs": [
    {
     "name": "stdout",
     "output_type": "stream",
     "text": [
      "Model: \"sequential\"\n",
      "_________________________________________________________________\n",
      "Layer (type)                 Output Shape              Param #   \n",
      "=================================================================\n",
      "embedding (Embedding)        (None, 10, 100)           321100    \n",
      "_________________________________________________________________\n",
      "bidirectional (Bidirectional (None, 10, 300)           301200    \n",
      "_________________________________________________________________\n",
      "dropout (Dropout)            (None, 10, 300)           0         \n",
      "_________________________________________________________________\n",
      "lstm_1 (LSTM)                (None, 100)               160400    \n",
      "_________________________________________________________________\n",
      "dense (Dense)                (None, 1605)              162105    \n",
      "_________________________________________________________________\n",
      "dense_1 (Dense)              (None, 3211)              5156866   \n",
      "=================================================================\n",
      "Total params: 6,101,671\n",
      "Trainable params: 6,101,671\n",
      "Non-trainable params: 0\n",
      "_________________________________________________________________\n",
      "None\n"
     ]
    }
   ],
   "source": [
    "model = Sequential()\n",
    "model.add(Embedding(total_words, 100, input_length=max_sequence_len-1))\n",
    "model.add(Bidirectional(LSTM(150, return_sequences = True)))\n",
    "model.add(Dropout(0.2))\n",
    "model.add(LSTM(100))\n",
    "model.add(Dense(total_words/2, activation='relu', kernel_regularizer=regularizers.l2(0.01)))\n",
    "model.add(Dense(total_words, activation='softmax'))\n",
    "model.compile(loss='categorical_crossentropy', optimizer='adam', metrics=['accuracy'])\n",
    "print(model.summary())\n"
   ]
  },
  {
   "cell_type": "code",
   "execution_count": 38,
   "metadata": {},
   "outputs": [
    {
     "name": "stdout",
     "output_type": "stream",
     "text": [
      "Train on 15462 samples\n",
      "Epoch 1/100\n",
      "15462/15462 [==============================] - 12s 744us/sample - loss: 6.8988 - accuracy: 0.0219\n",
      "Epoch 2/100\n",
      "15462/15462 [==============================] - 4s 289us/sample - loss: 6.4973 - accuracy: 0.0228\n",
      "Epoch 3/100\n",
      "15462/15462 [==============================] - 4s 287us/sample - loss: 6.3767 - accuracy: 0.0266\n",
      "Epoch 4/100\n",
      "15462/15462 [==============================] - 4s 290us/sample - loss: 6.2565 - accuracy: 0.0337\n",
      "Epoch 5/100\n",
      "15462/15462 [==============================] - 4s 289us/sample - loss: 6.1614 - accuracy: 0.0384\n",
      "Epoch 6/100\n",
      "15462/15462 [==============================] - 4s 291us/sample - loss: 6.0893 - accuracy: 0.0402\n",
      "Epoch 7/100\n",
      "15462/15462 [==============================] - 4s 287us/sample - loss: 6.0062 - accuracy: 0.0413 - loss: 6\n",
      "Epoch 8/100\n",
      "15462/15462 [==============================] - 5s 291us/sample - loss: 5.9117 - accuracy: 0.0451\n",
      "Epoch 9/100\n",
      "15462/15462 [==============================] - 4s 290us/sample - loss: 5.8011 - accuracy: 0.0536\n",
      "Epoch 10/100\n",
      "15462/15462 [==============================] - 4s 287us/sample - loss: 5.6890 - accuracy: 0.0596\n",
      "Epoch 11/100\n",
      "15462/15462 [==============================] - 5s 292us/sample - loss: 5.5797 - accuracy: 0.0656\n",
      "Epoch 12/100\n",
      "15462/15462 [==============================] - 4s 287us/sample - loss: 5.4743 - accuracy: 0.0721\n",
      "Epoch 13/100\n",
      "15462/15462 [==============================] - 4s 288us/sample - loss: 5.3629 - accuracy: 0.0811\n",
      "Epoch 14/100\n",
      "15462/15462 [==============================] - 4s 290us/sample - loss: 5.2559 - accuracy: 0.0871\n",
      "Epoch 15/100\n",
      "15462/15462 [==============================] - 4s 289us/sample - loss: 5.1514 - accuracy: 0.0935\n",
      "Epoch 16/100\n",
      "15462/15462 [==============================] - 4s 290us/sample - loss: 5.0489 - accuracy: 0.1014\n",
      "Epoch 17/100\n",
      "15462/15462 [==============================] - 5s 293us/sample - loss: 4.9387 - accuracy: 0.1069\n",
      "Epoch 18/100\n",
      "15462/15462 [==============================] - 4s 287us/sample - loss: 4.8314 - accuracy: 0.1184\n",
      "Epoch 19/100\n",
      "15462/15462 [==============================] - 4s 287us/sample - loss: 4.7243 - accuracy: 0.1247\n",
      "Epoch 20/100\n",
      "15462/15462 [==============================] - 5s 294us/sample - loss: 4.6136 - accuracy: 0.1354\n",
      "Epoch 21/100\n",
      "15462/15462 [==============================] - 4s 290us/sample - loss: 4.5079 - accuracy: 0.1458\n",
      "Epoch 22/100\n",
      "15462/15462 [==============================] - 4s 287us/sample - loss: 4.3908 - accuracy: 0.1585\n",
      "Epoch 23/100\n",
      "15462/15462 [==============================] - 4s 289us/sample - loss: 4.2847 - accuracy: 0.1709\n",
      "Epoch 24/100\n",
      "15462/15462 [==============================] - 4s 287us/sample - loss: 4.1716 - accuracy: 0.1839\n",
      "Epoch 25/100\n",
      "15462/15462 [==============================] - 4s 287us/sample - loss: 4.0675 - accuracy: 0.1995\n",
      "Epoch 26/100\n",
      "15462/15462 [==============================] - 4s 286us/sample - loss: 3.9574 - accuracy: 0.2122\n",
      "Epoch 27/100\n",
      "15462/15462 [==============================] - 4s 289us/sample - loss: 3.8513 - accuracy: 0.2354\n",
      "Epoch 28/100\n",
      "15462/15462 [==============================] - 5s 298us/sample - loss: 3.7531 - accuracy: 0.2535\n",
      "Epoch 29/100\n",
      "15462/15462 [==============================] - 4s 291us/sample - loss: 3.6564 - accuracy: 0.2682\n",
      "Epoch 30/100\n",
      "15462/15462 [==============================] - 5s 294us/sample - loss: 3.5522 - accuracy: 0.2882\n",
      "Epoch 31/100\n",
      "15462/15462 [==============================] - 5s 292us/sample - loss: 3.4551 - accuracy: 0.3129\n",
      "Epoch 32/100\n",
      "15462/15462 [==============================] - 5s 298us/sample - loss: 3.3638 - accuracy: 0.3313\n",
      "Epoch 33/100\n",
      "15462/15462 [==============================] - 5s 293us/sample - loss: 3.2774 - accuracy: 0.3499\n",
      "Epoch 34/100\n",
      "15462/15462 [==============================] - 5s 292us/sample - loss: 3.1916 - accuracy: 0.3663\n",
      "Epoch 35/100\n",
      "15462/15462 [==============================] - 5s 293us/sample - loss: 3.1115 - accuracy: 0.3826\n",
      "Epoch 36/100\n",
      "15462/15462 [==============================] - 4s 291us/sample - loss: 3.0257 - accuracy: 0.4044\n",
      "Epoch 37/100\n",
      "15462/15462 [==============================] - 4s 290us/sample - loss: 2.9443 - accuracy: 0.4239\n",
      "Epoch 38/100\n",
      "15462/15462 [==============================] - 5s 293us/sample - loss: 2.8684 - accuracy: 0.4420\n",
      "Epoch 39/100\n",
      "15462/15462 [==============================] - 5s 292us/sample - loss: 2.8008 - accuracy: 0.4547\n",
      "Epoch 40/100\n",
      "15462/15462 [==============================] - 5s 297us/sample - loss: 2.7382 - accuracy: 0.4708\n",
      "Epoch 41/100\n",
      "15462/15462 [==============================] - 5s 295us/sample - loss: 2.6691 - accuracy: 0.4874\n",
      "Epoch 42/100\n",
      "15462/15462 [==============================] - 4s 281us/sample - loss: 2.5961 - accuracy: 0.5046\n",
      "Epoch 43/100\n",
      "15462/15462 [==============================] - 4s 285us/sample - loss: 2.5455 - accuracy: 0.5133\n",
      "Epoch 44/100\n",
      "15462/15462 [==============================] - 5s 293us/sample - loss: 2.4846 - accuracy: 0.5279\n",
      "Epoch 45/100\n",
      "15462/15462 [==============================] - 4s 290us/sample - loss: 2.4312 - accuracy: 0.5376\n",
      "Epoch 46/100\n",
      "15462/15462 [==============================] - 5s 324us/sample - loss: 2.3714 - accuracy: 0.5536\n",
      "Epoch 47/100\n",
      "15462/15462 [==============================] - 5s 321us/sample - loss: 2.3153 - accuracy: 0.5666\n",
      "Epoch 48/100\n",
      "15462/15462 [==============================] - 5s 310us/sample - loss: 2.2658 - accuracy: 0.5799\n",
      "Epoch 49/100\n",
      "15462/15462 [==============================] - 5s 325us/sample - loss: 2.2232 - accuracy: 0.5880\n",
      "Epoch 50/100\n",
      "15462/15462 [==============================] - 5s 327us/sample - loss: 2.1840 - accuracy: 0.5970\n",
      "Epoch 51/100\n",
      "15462/15462 [==============================] - 5s 330us/sample - loss: 2.1224 - accuracy: 0.6091\n",
      "Epoch 52/100\n",
      "15462/15462 [==============================] - 5s 326us/sample - loss: 2.0964 - accuracy: 0.6144\n",
      "Epoch 53/100\n",
      "15462/15462 [==============================] - 5s 319us/sample - loss: 2.0568 - accuracy: 0.6233\n",
      "Epoch 54/100\n",
      "15462/15462 [==============================] - 5s 321us/sample - loss: 2.0055 - accuracy: 0.6372\n",
      "Epoch 55/100\n",
      "15462/15462 [==============================] - 5s 327us/sample - loss: 1.9583 - accuracy: 0.6466\n",
      "Epoch 56/100\n",
      "15462/15462 [==============================] - 5s 329us/sample - loss: 1.9309 - accuracy: 0.6493 - loss: 1.9292 - accura\n",
      "Epoch 57/100\n",
      "15462/15462 [==============================] - 5s 323us/sample - loss: 1.8945 - accuracy: 0.6591\n",
      "Epoch 58/100\n",
      "15462/15462 [==============================] - 5s 327us/sample - loss: 1.8704 - accuracy: 0.6632\n",
      "Epoch 59/100\n",
      "15462/15462 [==============================] - 5s 325us/sample - loss: 1.8231 - accuracy: 0.6735\n",
      "Epoch 60/100\n",
      "15462/15462 [==============================] - 5s 317us/sample - loss: 1.7835 - accuracy: 0.6816\n",
      "Epoch 61/100\n",
      "15462/15462 [==============================] - 5s 319us/sample - loss: 1.7464 - accuracy: 0.6899\n",
      "Epoch 62/100\n",
      "15462/15462 [==============================] - 5s 318us/sample - loss: 1.7315 - accuracy: 0.6923\n",
      "Epoch 63/100\n",
      "15462/15462 [==============================] - 5s 317us/sample - loss: 1.6987 - accuracy: 0.6992\n",
      "Epoch 64/100\n",
      "15462/15462 [==============================] - 5s 328us/sample - loss: 1.6740 - accuracy: 0.7061\n",
      "Epoch 65/100\n",
      "15462/15462 [==============================] - 5s 319us/sample - loss: 1.6440 - accuracy: 0.7117\n",
      "Epoch 66/100\n",
      "15462/15462 [==============================] - 5s 325us/sample - loss: 1.6304 - accuracy: 0.7142\n",
      "Epoch 67/100\n",
      "15462/15462 [==============================] - 5s 320us/sample - loss: 1.6110 - accuracy: 0.7161\n",
      "Epoch 68/100\n",
      "15462/15462 [==============================] - 5s 333us/sample - loss: 1.5695 - accuracy: 0.7256\n",
      "Epoch 69/100\n",
      "15462/15462 [==============================] - 5s 326us/sample - loss: 1.5482 - accuracy: 0.7316\n",
      "Epoch 70/100\n",
      "15462/15462 [==============================] - 5s 328us/sample - loss: 1.5284 - accuracy: 0.7326\n",
      "Epoch 71/100\n",
      "15462/15462 [==============================] - 5s 331us/sample - loss: 1.5151 - accuracy: 0.7386\n",
      "Epoch 72/100\n",
      "15462/15462 [==============================] - 5s 328us/sample - loss: 1.4752 - accuracy: 0.7480\n",
      "Epoch 73/100\n",
      "15462/15462 [==============================] - 5s 329us/sample - loss: 1.4652 - accuracy: 0.7466\n",
      "Epoch 74/100\n"
     ]
    },
    {
     "name": "stdout",
     "output_type": "stream",
     "text": [
      "15462/15462 [==============================] - 5s 319us/sample - loss: 1.4426 - accuracy: 0.7495\n",
      "Epoch 75/100\n",
      "15462/15462 [==============================] - 5s 320us/sample - loss: 1.4144 - accuracy: 0.7552\n",
      "Epoch 76/100\n",
      "15462/15462 [==============================] - 5s 320us/sample - loss: 1.4029 - accuracy: 0.7593\n",
      "Epoch 77/100\n",
      "15462/15462 [==============================] - 5s 321us/sample - loss: 1.3856 - accuracy: 0.7637\n",
      "Epoch 78/100\n",
      "15462/15462 [==============================] - 5s 323us/sample - loss: 1.3790 - accuracy: 0.7626\n",
      "Epoch 79/100\n",
      "15462/15462 [==============================] - 5s 319us/sample - loss: 1.3770 - accuracy: 0.7604\n",
      "Epoch 80/100\n",
      "15462/15462 [==============================] - 5s 321us/sample - loss: 1.3648 - accuracy: 0.7620\n",
      "Epoch 81/100\n",
      "15462/15462 [==============================] - 5s 323us/sample - loss: 1.3365 - accuracy: 0.7689\n",
      "Epoch 82/100\n",
      "15462/15462 [==============================] - 5s 323us/sample - loss: 1.2935 - accuracy: 0.7784\n",
      "Epoch 83/100\n",
      "15462/15462 [==============================] - 5s 322us/sample - loss: 1.2881 - accuracy: 0.7802\n",
      "Epoch 84/100\n",
      "15462/15462 [==============================] - 5s 322us/sample - loss: 1.2730 - accuracy: 0.7816\n",
      "Epoch 85/100\n",
      "15462/15462 [==============================] - 5s 322us/sample - loss: 1.2697 - accuracy: 0.7806\n",
      "Epoch 86/100\n",
      "15462/15462 [==============================] - 5s 323us/sample - loss: 1.2743 - accuracy: 0.7795\n",
      "Epoch 87/100\n",
      "15462/15462 [==============================] - 5s 326us/sample - loss: 1.2483 - accuracy: 0.7848\n",
      "Epoch 88/100\n",
      "15462/15462 [==============================] - 5s 328us/sample - loss: 1.2338 - accuracy: 0.7855\n",
      "Epoch 89/100\n",
      "15462/15462 [==============================] - 5s 323us/sample - loss: 1.2159 - accuracy: 0.7902\n",
      "Epoch 90/100\n",
      "15462/15462 [==============================] - 5s 324us/sample - loss: 1.2137 - accuracy: 0.7897\n",
      "Epoch 91/100\n",
      "15462/15462 [==============================] - 5s 323us/sample - loss: 1.1887 - accuracy: 0.7934\n",
      "Epoch 92/100\n",
      "15462/15462 [==============================] - 5s 320us/sample - loss: 1.1959 - accuracy: 0.7928\n",
      "Epoch 93/100\n",
      "15462/15462 [==============================] - 5s 325us/sample - loss: 1.1771 - accuracy: 0.7950\n",
      "Epoch 94/100\n",
      "15462/15462 [==============================] - 5s 322us/sample - loss: 1.1722 - accuracy: 0.7980\n",
      "Epoch 95/100\n",
      "15462/15462 [==============================] - 5s 321us/sample - loss: 1.1634 - accuracy: 0.7974\n",
      "Epoch 96/100\n",
      "15462/15462 [==============================] - 5s 321us/sample - loss: 1.1531 - accuracy: 0.7972\n",
      "Epoch 97/100\n",
      "15462/15462 [==============================] - 5s 321us/sample - loss: 1.1366 - accuracy: 0.8019\n",
      "Epoch 98/100\n",
      "15462/15462 [==============================] - 5s 321us/sample - loss: 1.1252 - accuracy: 0.8044\n",
      "Epoch 99/100\n",
      "15462/15462 [==============================] - 5s 322us/sample - loss: 1.1104 - accuracy: 0.8072\n",
      "Epoch 100/100\n",
      "15462/15462 [==============================] - 5s 325us/sample - loss: 1.1129 - accuracy: 0.8061\n"
     ]
    }
   ],
   "source": [
    " history = model.fit(predictors, label, epochs=100, verbose=1)"
   ]
  },
  {
   "cell_type": "code",
   "execution_count": 39,
   "metadata": {},
   "outputs": [
    {
     "data": {
      "image/png": "[encoded data removed]",
      "text/plain": [
       "<Figure size 432x288 with 1 Axes>"
      ]
     },
     "metadata": {
      "needs_background": "light"
     },
     "output_type": "display_data"
    },
    {
     "data": {
      "image/png": "[encoded data removed]",
      "text/plain": [
       "<Figure size 432x288 with 1 Axes>"
      ]
     },
     "metadata": {
      "needs_background": "light"
     },
     "output_type": "display_data"
    }
   ],
   "source": [
    "import matplotlib.pyplot as plt\n",
    "acc = history.history['accuracy']\n",
    "loss = history.history['loss']\n",
    "\n",
    "epochs = range(len(acc))\n",
    "\n",
    "plt.plot(epochs, acc, 'b', label='Training accuracy')\n",
    "plt.title('Training accuracy')\n",
    "\n",
    "plt.figure()\n",
    "\n",
    "plt.plot(epochs, loss, 'b', label='Training Loss')\n",
    "plt.title('Training loss')\n",
    "plt.legend()\n",
    "\n",
    "plt.show()"
   ]
  },
  {
   "cell_type": "code",
   "execution_count": 47,
   "metadata": {},
   "outputs": [
    {
     "name": "stdout",
     "output_type": "stream",
     "text": [
      "King thou gavest thy art in this women's foot on grow level days exchanged toil'd light twain light twain twain new last on place place forth pride for slain slain bright ' alone so gone so still still so rare kind still old rare spent still back hence gems one dyed still new remain grow new dead moan me now so dwell so erred twain near woe moan tongue lack rage quite grow leaves light shine on hate quite night alone relief relief relief dyed moan me pain alone so rare alone on thee still so dwell have last none none\n"
     ]
    }
   ],
   "source": [
    "seed_text = \"King\"\n",
    "next_words = 100\n",
    "  \n",
    "for _ in range(next_words):\n",
    "    token_list = tokenizer.texts_to_sequences([seed_text])[0]\n",
    "    token_list = pad_sequences([token_list], maxlen=max_sequence_len-1, padding='pre')\n",
    "    predicted = model.predict_classes(token_list, verbose=0)\n",
    "    output_word = \"\"\n",
    "    for word, index in tokenizer.word_index.items():\n",
    "        if index == predicted:\n",
    "            output_word = word\n",
    "            break\n",
    "    seed_text += \" \" + output_word\n",
    "print(seed_text)"
   ]
  },
  {
   "cell_type": "code",
   "execution_count": null,
   "metadata": {},
   "outputs": [],
   "source": []
  }
 ],
 "metadata": {
  "kernelspec": {
   "display_name": "Python 3",
   "language": "python",
   "name": "python3"
  },
  "language_info": {
   "codemirror_mode": {
    "name": "ipython",
    "version": 3
   },
   "file_extension": ".py",
   "mimetype": "text/x-python",
   "name": "python",
   "nbconvert_exporter": "python",
   "pygments_lexer": "ipython3",
   "version": "3.7.8"
  }
 },
 "nbformat": 4,
 "nbformat_minor": 4
}
