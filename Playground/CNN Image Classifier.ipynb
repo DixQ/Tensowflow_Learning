{
 "cells": [
  {
   "cell_type": "markdown",
   "metadata": {},
   "source": [
    "# Package import"
   ]
  },
  {
   "cell_type": "markdown",
   "metadata": {},
   "source": [
    "To check Nvidia memory usage (Windows\n",
    " - cd c:\\Program Files\\NVIDIA Corporation\\NVSMI>\n",
    " - nvidia-smi -l"
   ]
  },
  {
   "cell_type": "code",
   "execution_count": 93,
   "metadata": {},
   "outputs": [],
   "source": [
    "import tensorflow as tf\n",
    "from tensorflow import keras\n",
    "from tensorflow.keras.preprocessing.image import ImageDataGenerator\n",
    "import numpy as np"
   ]
  },
  {
   "cell_type": "code",
   "execution_count": 94,
   "metadata": {},
   "outputs": [],
   "source": [
    "import tensorflow as tf\n",
    "gpus = tf.config.experimental.list_physical_devices('GPU')\n",
    "if gpus:\n",
    "  try:\n",
    "    tf.config.experimental.set_virtual_device_configuration(gpus[0], [tf.config.experimental.VirtualDeviceConfiguration(memory_limit=2048)])\n",
    "  except RuntimeError as e:\n",
    "    print(e)"
   ]
  },
  {
   "cell_type": "code",
   "execution_count": 95,
   "metadata": {},
   "outputs": [],
   "source": [
    "valid_perc = 0.1"
   ]
  },
  {
   "cell_type": "code",
   "execution_count": 96,
   "metadata": {},
   "outputs": [],
   "source": [
    "# For Fashion MNIST we need the list of class names to know what we are dealing with\n",
    "class_names = [\"T-shirt/top\", \"Trouser\", \"Pullover\", \"Dress\", \"Coat\", \"Sandal\", \"Shirt\", \"Sneaker\", \"Bag\", \"Ankle boot\"]"
   ]
  },
  {
   "cell_type": "markdown",
   "metadata": {},
   "source": [
    "# Data Load"
   ]
  },
  {
   "cell_type": "code",
   "execution_count": 97,
   "metadata": {},
   "outputs": [],
   "source": [
    "fashion_mnist = keras.datasets.fashion_mnist"
   ]
  },
  {
   "cell_type": "code",
   "execution_count": 98,
   "metadata": {},
   "outputs": [],
   "source": [
    "(X_train, y_train), (X_test, y_test) = fashion_mnist.load_data()"
   ]
  },
  {
   "cell_type": "code",
   "execution_count": 99,
   "metadata": {},
   "outputs": [
    {
     "name": "stdout",
     "output_type": "stream",
     "text": [
      "Shape: (60000, 28, 28)\n",
      "Data Type: uint8\n"
     ]
    }
   ],
   "source": [
    "shape = X_train.shape\n",
    "print(\"Shape: \" + str(shape))\n",
    "\n",
    "data_type = X_train.dtype\n",
    "print(\"Data Type: \"  + str(data_type))"
   ]
  },
  {
   "cell_type": "markdown",
   "metadata": {},
   "source": [
    "# Data preparation"
   ]
  },
  {
   "cell_type": "code",
   "execution_count": 100,
   "metadata": {},
   "outputs": [],
   "source": [
    "X_train = np.expand_dims(X_train, axis = 3)# Your Code Here\n",
    "X_test = np.expand_dims(X_test, axis = 3)# Your Code Here"
   ]
  },
  {
   "cell_type": "code",
   "execution_count": 101,
   "metadata": {},
   "outputs": [
    {
     "name": "stdout",
     "output_type": "stream",
     "text": [
      "Train shape: (60000, 28, 28, 1)\n",
      "Validation shape: (10000, 28, 28, 1)\n"
     ]
    }
   ],
   "source": [
    "shape = X_train.shape\n",
    "print(\"Train shape: \" + str(shape))\n",
    "\n",
    "shape = X_test.shape\n",
    "print(\"Validation shape: \" + str(shape))"
   ]
  },
  {
   "cell_type": "code",
   "execution_count": 102,
   "metadata": {},
   "outputs": [],
   "source": [
    "X_train=X_train / 255.0\n",
    "X_test=X_test / 255.0"
   ]
  },
  {
   "cell_type": "markdown",
   "metadata": {},
   "source": [
    "# Creating the model using the Sequential API"
   ]
  },
  {
   "cell_type": "code",
   "execution_count": 103,
   "metadata": {},
   "outputs": [],
   "source": [
    "model = keras.models.Sequential([\n",
    "    tf.keras.layers.Conv2D(64,(3,3), activation = 'relu', input_shape = (28,28,1)),\n",
    "    tf.keras.layers.MaxPooling2D(2,2),\n",
    "    tf.keras.layers.Conv2D(64,(3,3), activation = 'relu'),\n",
    "    tf.keras.layers.MaxPooling2D(2,2),\n",
    "    tf.keras.layers.Flatten(),\n",
    "    tf.keras.layers.Dense(128, activation = 'relu'),\n",
    "    tf.keras.layers.Dense(10, activation = 'softmax'),\n",
    "])"
   ]
  },
  {
   "cell_type": "code",
   "execution_count": 104,
   "metadata": {},
   "outputs": [],
   "source": [
    "model.compile(loss = 'sparse_categorical_crossentropy', optimizer = 'adam', metrics = ['accuracy'])"
   ]
  },
  {
   "cell_type": "code",
   "execution_count": 105,
   "metadata": {},
   "outputs": [
    {
     "name": "stdout",
     "output_type": "stream",
     "text": [
      "Train on 60000 samples, validate on 10000 samples\n",
      "Epoch 1/10\n",
      "60000/60000 [==============================] - 6s 103us/sample - loss: 0.4361 - accuracy: 0.8410 - val_loss: 0.3458 - val_accuracy: 0.8727\n",
      "Epoch 2/10\n",
      "60000/60000 [==============================] - 6s 98us/sample - loss: 0.2888 - accuracy: 0.8938 - val_loss: 0.2984 - val_accuracy: 0.8929\n",
      "Epoch 3/10\n",
      "60000/60000 [==============================] - 6s 95us/sample - loss: 0.2440 - accuracy: 0.9101 - val_loss: 0.2904 - val_accuracy: 0.8927\n",
      "Epoch 4/10\n",
      "60000/60000 [==============================] - 6s 95us/sample - loss: 0.2114 - accuracy: 0.9222 - val_loss: 0.2532 - val_accuracy: 0.9068\n",
      "Epoch 5/10\n",
      "60000/60000 [==============================] - 6s 103us/sample - loss: 0.1848 - accuracy: 0.9315 - val_loss: 0.2817 - val_accuracy: 0.8978\n",
      "Epoch 6/10\n",
      "60000/60000 [==============================] - 6s 97us/sample - loss: 0.1614 - accuracy: 0.9387 - val_loss: 0.2592 - val_accuracy: 0.9108\n",
      "Epoch 7/10\n",
      "60000/60000 [==============================] - 6s 96us/sample - loss: 0.1430 - accuracy: 0.9464 - val_loss: 0.2535 - val_accuracy: 0.9115\n",
      "Epoch 8/10\n",
      "60000/60000 [==============================] - 6s 94us/sample - loss: 0.1237 - accuracy: 0.9529 - val_loss: 0.2920 - val_accuracy: 0.9126\n",
      "Epoch 9/10\n",
      "60000/60000 [==============================] - 6s 93us/sample - loss: 0.1097 - accuracy: 0.9594 - val_loss: 0.2886 - val_accuracy: 0.9130\n",
      "Epoch 10/10\n",
      "60000/60000 [==============================] - 6s 95us/sample - loss: 0.0955 - accuracy: 0.9639 - val_loss: 0.3064 - val_accuracy: 0.9119\n"
     ]
    }
   ],
   "source": [
    "history = model.fit(X_train, y_train, epochs = 10, validation_data = (X_test, y_test))"
   ]
  },
  {
   "cell_type": "code",
   "execution_count": null,
   "metadata": {},
   "outputs": [],
   "source": []
  }
 ],
 "metadata": {
  "kernelspec": {
   "display_name": "Python 3",
   "language": "python",
   "name": "python3"
  },
  "language_info": {
   "codemirror_mode": {
    "name": "ipython",
    "version": 3
   },
   "file_extension": ".py",
   "mimetype": "text/x-python",
   "name": "python",
   "nbconvert_exporter": "python",
   "pygments_lexer": "ipython3",
   "version": "3.7.8"
  }
 },
 "nbformat": 4,
 "nbformat_minor": 4
}
