{
 "cells": [
  {
   "cell_type": "code",
   "execution_count": 2,
   "metadata": {},
   "outputs": [],
   "source": [
    "import pandas as pd\n",
    "import numpy as np\n",
    "%matplotlib inline\n",
    "import matplotlib.pyplot as plt"
   ]
  },
  {
   "cell_type": "code",
   "execution_count": 28,
   "metadata": {},
   "outputs": [],
   "source": [
    "import tensorflow as tf\n",
    "physical_devices = tf.config.list_physical_devices('GPU') \n",
    "tf.config.experimental.set_memory_growth(physical_devices[0], True)"
   ]
  },
  {
   "cell_type": "code",
   "execution_count": 29,
   "metadata": {},
   "outputs": [],
   "source": [
    "from tensorflow import keras"
   ]
  },
  {
   "cell_type": "markdown",
   "metadata": {},
   "source": [
    "# Data"
   ]
  },
  {
   "cell_type": "code",
   "execution_count": 7,
   "metadata": {},
   "outputs": [],
   "source": [
    "X = np.linspace(0,50,501)"
   ]
  },
  {
   "cell_type": "code",
   "execution_count": 8,
   "metadata": {},
   "outputs": [],
   "source": [
    "y = np.sin(X)"
   ]
  },
  {
   "cell_type": "code",
   "execution_count": 9,
   "metadata": {},
   "outputs": [
    {
     "data": {
      "text/plain": [
       "[<matplotlib.lines.Line2D at 0x2be1bd14808>]"
      ]
     },
     "execution_count": 9,
     "metadata": {},
     "output_type": "execute_result"
    },
    {
     "data": {
      "image/png": "[encoded data removed]",
      "text/plain": [
       "<Figure size 432x288 with 1 Axes>"
      ]
     },
     "metadata": {
      "needs_background": "light"
     },
     "output_type": "display_data"
    }
   ],
   "source": [
    "plt.plot(x,y)"
   ]
  },
  {
   "cell_type": "code",
   "execution_count": 10,
   "metadata": {},
   "outputs": [],
   "source": [
    " df = pd.DataFrame(data = y, index = x, columns = ['sin'])"
   ]
  },
  {
   "cell_type": "code",
   "execution_count": 11,
   "metadata": {},
   "outputs": [],
   "source": [
    "train = df.iloc[:int(len(df)*0.9)]"
   ]
  },
  {
   "cell_type": "code",
   "execution_count": 12,
   "metadata": {},
   "outputs": [],
   "source": [
    "test  = df.iloc[int(len(df)*0.9):]"
   ]
  },
  {
   "cell_type": "code",
   "execution_count": 13,
   "metadata": {},
   "outputs": [],
   "source": [
    "from sklearn.preprocessing import MinMaxScaler"
   ]
  },
  {
   "cell_type": "code",
   "execution_count": 14,
   "metadata": {},
   "outputs": [],
   "source": [
    "scaler = MinMaxScaler()"
   ]
  },
  {
   "cell_type": "code",
   "execution_count": 15,
   "metadata": {},
   "outputs": [
    {
     "data": {
      "text/plain": [
       "MinMaxScaler()"
      ]
     },
     "execution_count": 15,
     "metadata": {},
     "output_type": "execute_result"
    }
   ],
   "source": [
    "scaler.fit(train)"
   ]
  },
  {
   "cell_type": "code",
   "execution_count": 16,
   "metadata": {},
   "outputs": [],
   "source": [
    "scaled_train = scaler.transform(train)"
   ]
  },
  {
   "cell_type": "code",
   "execution_count": 17,
   "metadata": {},
   "outputs": [],
   "source": [
    "scaled_test = scaler.transform(test)"
   ]
  },
  {
   "cell_type": "code",
   "execution_count": 18,
   "metadata": {},
   "outputs": [],
   "source": [
    "from tensorflow.keras.preprocessing.sequence import TimeseriesGenerator"
   ]
  },
  {
   "cell_type": "code",
   "execution_count": 19,
   "metadata": {},
   "outputs": [
    {
     "name": "stdout",
     "output_type": "stream",
     "text": [
      "Help on class TimeseriesGenerator in module tensorflow.python.keras.preprocessing.sequence:\n",
      "\n",
      "class TimeseriesGenerator(keras_preprocessing.sequence.TimeseriesGenerator, tensorflow.python.keras.utils.data_utils.Sequence)\n",
      " |  TimeseriesGenerator(data, targets, length, sampling_rate=1, stride=1, start_index=0, end_index=None, shuffle=False, reverse=False, batch_size=128)\n",
      " |  \n",
      " |  Utility class for generating batches of temporal data.\n",
      " |  This class takes in a sequence of data-points gathered at\n",
      " |  equal intervals, along with time series parameters such as\n",
      " |  stride, length of history, etc., to produce batches for\n",
      " |  training/validation.\n",
      " |  # Arguments\n",
      " |      data: Indexable generator (such as list or Numpy array)\n",
      " |          containing consecutive data points (timesteps).\n",
      " |          The data should be at 2D, and axis 0 is expected\n",
      " |          to be the time dimension.\n",
      " |      targets: Targets corresponding to timesteps in `data`.\n",
      " |          It should have same length as `data`.\n",
      " |      length: Length of the output sequences (in number of timesteps).\n",
      " |      sampling_rate: Period between successive individual timesteps\n",
      " |          within sequences. For rate `r`, timesteps\n",
      " |          `data[i]`, `data[i-r]`, ... `data[i - length]`\n",
      " |          are used for create a sample sequence.\n",
      " |      stride: Period between successive output sequences.\n",
      " |          For stride `s`, consecutive output samples would\n",
      " |          be centered around `data[i]`, `data[i+s]`, `data[i+2*s]`, etc.\n",
      " |      start_index: Data points earlier than `start_index` will not be used\n",
      " |          in the output sequences. This is useful to reserve part of the\n",
      " |          data for test or validation.\n",
      " |      end_index: Data points later than `end_index` will not be used\n",
      " |          in the output sequences. This is useful to reserve part of the\n",
      " |          data for test or validation.\n",
      " |      shuffle: Whether to shuffle output samples,\n",
      " |          or instead draw them in chronological order.\n",
      " |      reverse: Boolean: if `true`, timesteps in each output sample will be\n",
      " |          in reverse chronological order.\n",
      " |      batch_size: Number of timeseries samples in each batch\n",
      " |          (except maybe the last one).\n",
      " |  # Returns\n",
      " |      A [Sequence](/utils/#sequence) instance.\n",
      " |  # Examples\n",
      " |  ```python\n",
      " |  from keras.preprocessing.sequence import TimeseriesGenerator\n",
      " |  import numpy as np\n",
      " |  data = np.array([[i] for i in range(50)])\n",
      " |  targets = np.array([[i] for i in range(50)])\n",
      " |  data_gen = TimeseriesGenerator(data, targets,\n",
      " |                                 length=10, sampling_rate=2,\n",
      " |                                 batch_size=2)\n",
      " |  assert len(data_gen) == 20\n",
      " |  batch_0 = data_gen[0]\n",
      " |  x, y = batch_0\n",
      " |  assert np.array_equal(x,\n",
      " |                        np.array([[[0], [2], [4], [6], [8]],\n",
      " |                                  [[1], [3], [5], [7], [9]]]))\n",
      " |  assert np.array_equal(y,\n",
      " |                        np.array([[10], [11]]))\n",
      " |  ```\n",
      " |  \n",
      " |  Method resolution order:\n",
      " |      TimeseriesGenerator\n",
      " |      keras_preprocessing.sequence.TimeseriesGenerator\n",
      " |      tensorflow.python.keras.utils.data_utils.Sequence\n",
      " |      builtins.object\n",
      " |  \n",
      " |  Methods inherited from keras_preprocessing.sequence.TimeseriesGenerator:\n",
      " |  \n",
      " |  __getitem__(self, index)\n",
      " |  \n",
      " |  __init__(self, data, targets, length, sampling_rate=1, stride=1, start_index=0, end_index=None, shuffle=False, reverse=False, batch_size=128)\n",
      " |      Initialize self.  See help(type(self)) for accurate signature.\n",
      " |  \n",
      " |  __len__(self)\n",
      " |  \n",
      " |  get_config(self)\n",
      " |      Returns the TimeseriesGenerator configuration as Python dictionary.\n",
      " |      \n",
      " |      # Returns\n",
      " |          A Python dictionary with the TimeseriesGenerator configuration.\n",
      " |  \n",
      " |  to_json(self, **kwargs)\n",
      " |      Returns a JSON string containing the timeseries generator\n",
      " |      configuration. To load a generator from a JSON string, use\n",
      " |      `keras.preprocessing.sequence.timeseries_generator_from_json(json_string)`.\n",
      " |      \n",
      " |      # Arguments\n",
      " |          **kwargs: Additional keyword arguments\n",
      " |              to be passed to `json.dumps()`.\n",
      " |      \n",
      " |      # Returns\n",
      " |          A JSON string containing the tokenizer configuration.\n",
      " |  \n",
      " |  ----------------------------------------------------------------------\n",
      " |  Data descriptors inherited from keras_preprocessing.sequence.TimeseriesGenerator:\n",
      " |  \n",
      " |  __dict__\n",
      " |      dictionary for instance variables (if defined)\n",
      " |  \n",
      " |  __weakref__\n",
      " |      list of weak references to the object (if defined)\n",
      " |  \n",
      " |  ----------------------------------------------------------------------\n",
      " |  Methods inherited from tensorflow.python.keras.utils.data_utils.Sequence:\n",
      " |  \n",
      " |  __iter__(self)\n",
      " |      Create a generator that iterate over the Sequence.\n",
      " |  \n",
      " |  on_epoch_end(self)\n",
      " |      Method called at the end of every epoch.\n",
      "\n"
     ]
    }
   ],
   "source": [
    "help(TimeseriesGenerator)"
   ]
  },
  {
   "cell_type": "code",
   "execution_count": 24,
   "metadata": {},
   "outputs": [],
   "source": [
    "length = 25\n",
    "batch_size = 1\n",
    "\n",
    "generator = TimeseriesGenerator(scaled_train, scaled_train, length=length, batch_size=batch_size)"
   ]
  },
  {
   "cell_type": "code",
   "execution_count": 25,
   "metadata": {},
   "outputs": [
    {
     "data": {
      "text/plain": [
       "450"
      ]
     },
     "execution_count": 25,
     "metadata": {},
     "output_type": "execute_result"
    }
   ],
   "source": [
    "len(scaled_train)"
   ]
  },
  {
   "cell_type": "code",
   "execution_count": 26,
   "metadata": {},
   "outputs": [
    {
     "data": {
      "text/plain": [
       "425"
      ]
     },
     "execution_count": 26,
     "metadata": {},
     "output_type": "execute_result"
    }
   ],
   "source": [
    "len(generator)"
   ]
  },
  {
   "cell_type": "code",
   "execution_count": 27,
   "metadata": {},
   "outputs": [
    {
     "data": {
      "text/plain": [
       "(array([[[0.49999912],\n",
       "         [0.54991622],\n",
       "         [0.59933458],\n",
       "         [0.64776041],\n",
       "         [0.69470985],\n",
       "         [0.73971381],\n",
       "         [0.78232262],\n",
       "         [0.82211054],\n",
       "         [0.85868004],\n",
       "         [0.89166571],\n",
       "         [0.92073798],\n",
       "         [0.94560637],\n",
       "         [0.9660224 ],\n",
       "         [0.98178208],\n",
       "         [0.99272794],\n",
       "         [0.99875061],\n",
       "         [0.99978993],\n",
       "         [0.9958355 ],\n",
       "         [0.98692684],\n",
       "         [0.97315296],\n",
       "         [0.95465148],\n",
       "         [0.93160726],\n",
       "         [0.90425056],\n",
       "         [0.87285471],\n",
       "         [0.83773342]]]),\n",
       " array([[0.79923759]]))"
      ]
     },
     "execution_count": 27,
     "metadata": {},
     "output_type": "execute_result"
    }
   ],
   "source": [
    "generator[0]"
   ]
  },
  {
   "cell_type": "code",
   "execution_count": 31,
   "metadata": {},
   "outputs": [],
   "source": [
    "n_features = 1"
   ]
  },
  {
   "cell_type": "markdown",
   "metadata": {},
   "source": [
    "# Model"
   ]
  },
  {
   "cell_type": "code",
   "execution_count": 32,
   "metadata": {},
   "outputs": [],
   "source": [
    "model = keras.models.Sequential([\n",
    "    keras.layers.SimpleRNN(50, input_shape = (length, n_features)),\n",
    "    keras.layers.Dense(1)\n",
    "])"
   ]
  },
  {
   "cell_type": "code",
   "execution_count": 33,
   "metadata": {},
   "outputs": [],
   "source": [
    "model.compile(optimizer = 'adam', loss = 'mse')"
   ]
  },
  {
   "cell_type": "code",
   "execution_count": 35,
   "metadata": {},
   "outputs": [
    {
     "name": "stdout",
     "output_type": "stream",
     "text": [
      "Model: \"sequential\"\n",
      "_________________________________________________________________\n",
      "Layer (type)                 Output Shape              Param #   \n",
      "=================================================================\n",
      "simple_rnn (SimpleRNN)       (None, 50)                2600      \n",
      "_________________________________________________________________\n",
      "dense (Dense)                (None, 1)                 51        \n",
      "=================================================================\n",
      "Total params: 2,651\n",
      "Trainable params: 2,651\n",
      "Non-trainable params: 0\n",
      "_________________________________________________________________\n"
     ]
    }
   ],
   "source": [
    "model.summary()"
   ]
  },
  {
   "cell_type": "code",
   "execution_count": 36,
   "metadata": {},
   "outputs": [
    {
     "name": "stdout",
     "output_type": "stream",
     "text": [
      "WARNING:tensorflow:From <ipython-input-36-d475adaaf81a>:1: Model.fit_generator (from tensorflow.python.keras.engine.training) is deprecated and will be removed in a future version.\n",
      "Instructions for updating:\n",
      "Please use Model.fit, which supports generators.\n",
      "WARNING:tensorflow:sample_weight modes were coerced from\n",
      "  ...\n",
      "    to  \n",
      "  ['...']\n",
      "Train for 425 steps\n",
      "Epoch 1/10\n",
      "425/425 [==============================] - 5s 12ms/step - loss: 0.0032\n",
      "Epoch 2/10\n",
      "425/425 [==============================] - 4s 10ms/step - loss: 3.8390e-04\n",
      "Epoch 3/10\n",
      "425/425 [==============================] - 4s 10ms/step - loss: 2.7744e-04: 0s - loss\n",
      "Epoch 4/10\n",
      "425/425 [==============================] - 4s 10ms/step - loss: 8.4397e-05\n",
      "Epoch 5/10\n",
      "425/425 [==============================] - 4s 10ms/step - loss: 1.2322e-04\n",
      "Epoch 6/10\n",
      "425/425 [==============================] - 4s 10ms/step - loss: 2.4441e-04\n",
      "Epoch 7/10\n",
      "425/425 [==============================] - 4s 10ms/step - loss: 4.7518e-05\n",
      "Epoch 8/10\n",
      "425/425 [==============================] - 4s 10ms/step - loss: 4.1577e-04\n",
      "Epoch 9/10\n",
      "425/425 [==============================] - 4s 10ms/step - loss: 4.6353e-05\n",
      "Epoch 10/10\n",
      "425/425 [==============================] - 4s 10ms/step - loss: 1.2702e-05\n"
     ]
    },
    {
     "data": {
      "text/plain": [
       "<tensorflow.python.keras.callbacks.History at 0x2be25f25608>"
      ]
     },
     "execution_count": 36,
     "metadata": {},
     "output_type": "execute_result"
    }
   ],
   "source": [
    "model.fit_generator(generator, epochs = 10)"
   ]
  },
  {
   "cell_type": "code",
   "execution_count": 37,
   "metadata": {},
   "outputs": [],
   "source": [
    "losses = pd.DataFrame(model.history.history)"
   ]
  },
  {
   "cell_type": "code",
   "execution_count": 38,
   "metadata": {},
   "outputs": [
    {
     "data": {
      "text/plain": [
       "<AxesSubplot:>"
      ]
     },
     "execution_count": 38,
     "metadata": {},
     "output_type": "execute_result"
    },
    {
     "data": {
      "image/png": "[encoded data removed]",
      "text/plain": [
       "<Figure size 432x288 with 1 Axes>"
      ]
     },
     "metadata": {
      "needs_background": "light"
     },
     "output_type": "display_data"
    }
   ],
   "source": [
    "losses.plot()"
   ]
  },
  {
   "cell_type": "code",
   "execution_count": 39,
   "metadata": {},
   "outputs": [],
   "source": [
    "first_eval_batch = scaled_train[-length:]"
   ]
  },
  {
   "cell_type": "code",
   "execution_count": 40,
   "metadata": {},
   "outputs": [],
   "source": [
    "first_eval_batch = first_eval_batch.reshape((1, length, n_features))"
   ]
  },
  {
   "cell_type": "code",
   "execution_count": 41,
   "metadata": {},
   "outputs": [
    {
     "data": {
      "text/plain": [
       "array([[0.92262083]], dtype=float32)"
      ]
     },
     "execution_count": 41,
     "metadata": {},
     "output_type": "execute_result"
    }
   ],
   "source": [
    "model.predict(first_eval_batch)"
   ]
  },
  {
   "cell_type": "code",
   "execution_count": 42,
   "metadata": {},
   "outputs": [
    {
     "data": {
      "text/plain": [
       "array([0.92545429])"
      ]
     },
     "execution_count": 42,
     "metadata": {},
     "output_type": "execute_result"
    }
   ],
   "source": [
    "scaled_test[0]"
   ]
  },
  {
   "cell_type": "code",
   "execution_count": 46,
   "metadata": {},
   "outputs": [],
   "source": [
    "test_predictions = []\n",
    "\n",
    "first_eval_batch = scaled_train[-length:]\n",
    "current_batch = first_eval_batch.reshape((1, length, n_features))\n",
    "\n",
    "for i in range(len(test)):\n",
    "    \n",
    "    current_pred = model.predict(current_batch)[0]\n",
    "    \n",
    "    test_predictions.append(current_pred)\n",
    "    \n",
    "    current_batch = np.append(current_batch[:,1:,:], [[current_pred]], axis = 1)"
   ]
  },
  {
   "cell_type": "code",
   "execution_count": 50,
   "metadata": {},
   "outputs": [],
   "source": [
    "true_pred = scaler.inverse_transform(test_predictions)"
   ]
  },
  {
   "cell_type": "code",
   "execution_count": 52,
   "metadata": {},
   "outputs": [
    {
     "name": "stderr",
     "output_type": "stream",
     "text": [
      "C:\\Users\\dixq1\\anaconda3\\envs\\exam_env\\lib\\site-packages\\ipykernel_launcher.py:1: SettingWithCopyWarning: \n",
      "A value is trying to be set on a copy of a slice from a DataFrame.\n",
      "Try using .loc[row_indexer,col_indexer] = value instead\n",
      "\n",
      "See the caveats in the documentation: https://pandas.pydata.org/pandas-docs/stable/user_guide/indexing.html#returning-a-view-versus-a-copy\n",
      "  \"\"\"Entry point for launching an IPython kernel.\n"
     ]
    }
   ],
   "source": [
    "test['pred'] = true_pred"
   ]
  },
  {
   "cell_type": "code",
   "execution_count": 53,
   "metadata": {},
   "outputs": [
    {
     "data": {
      "text/plain": [
       "<AxesSubplot:>"
      ]
     },
     "execution_count": 53,
     "metadata": {},
     "output_type": "execute_result"
    },
    {
     "data": {
      "image/png": "[encoded data removed]",
      "text/plain": [
       "<Figure size 432x288 with 1 Axes>"
      ]
     },
     "metadata": {
      "needs_background": "light"
     },
     "output_type": "display_data"
    }
   ],
   "source": [
    "test.plot()"
   ]
  },
  {
   "cell_type": "code",
   "execution_count": 54,
   "metadata": {},
   "outputs": [],
   "source": [
    "from tensorflow.keras.callbacks import EarlyStopping"
   ]
  },
  {
   "cell_type": "code",
   "execution_count": 55,
   "metadata": {},
   "outputs": [],
   "source": [
    "early_stop = EarlyStopping(monitor='val_loss', patience = 2)"
   ]
  },
  {
   "cell_type": "code",
   "execution_count": 56,
   "metadata": {},
   "outputs": [],
   "source": [
    "validator_generator = TimeseriesGenerator(scaled_test,scaled_test, length=length, batch_size=batch_size)"
   ]
  },
  {
   "cell_type": "code",
   "execution_count": 62,
   "metadata": {},
   "outputs": [],
   "source": [
    "model_2 = keras.models.Sequential([\n",
    "    keras.layers.LSTM(50, input_shape=(length, n_features)),\n",
    "    keras.layers.Dense(1)\n",
    "])"
   ]
  },
  {
   "cell_type": "code",
   "execution_count": 63,
   "metadata": {},
   "outputs": [],
   "source": [
    "model_2.compile(optimizer = 'adam', loss = 'mse')"
   ]
  },
  {
   "cell_type": "code",
   "execution_count": 64,
   "metadata": {},
   "outputs": [
    {
     "name": "stdout",
     "output_type": "stream",
     "text": [
      "WARNING:tensorflow:sample_weight modes were coerced from\n",
      "  ...\n",
      "    to  \n",
      "  ['...']\n",
      "WARNING:tensorflow:sample_weight modes were coerced from\n",
      "  ...\n",
      "    to  \n",
      "  ['...']\n",
      "Train for 425 steps, validate for 26 steps\n",
      "Epoch 1/20\n",
      "425/425 [==============================] - 3s 7ms/step - loss: 0.0128 - val_loss: 3.3176e-05\n",
      "Epoch 2/20\n",
      "425/425 [==============================] - 1s 3ms/step - loss: 1.3731e-04 - val_loss: 4.4668e-05\n",
      "Epoch 3/20\n",
      "425/425 [==============================] - 1s 3ms/step - loss: 8.8114e-05 - val_loss: 1.9496e-05\n",
      "Epoch 4/20\n",
      "425/425 [==============================] - 1s 3ms/step - loss: 5.8490e-04 - val_loss: 4.3011e-05\n",
      "Epoch 5/20\n",
      "425/425 [==============================] - 1s 3ms/step - loss: 5.0983e-05 - val_loss: 2.2415e-05\n"
     ]
    },
    {
     "data": {
      "text/plain": [
       "<tensorflow.python.keras.callbacks.History at 0x2be7a27b988>"
      ]
     },
     "execution_count": 64,
     "metadata": {},
     "output_type": "execute_result"
    }
   ],
   "source": [
    "model_2.fit_generator(generator, epochs = 20, validation_data = validator_generator, callbacks = [early_stop])"
   ]
  },
  {
   "cell_type": "code",
   "execution_count": 65,
   "metadata": {},
   "outputs": [],
   "source": [
    "test_predictions = []\n",
    "\n",
    "first_eval_batch = scaled_train[-length:]\n",
    "current_batch = first_eval_batch.reshape((1, length, n_features))\n",
    "\n",
    "for i in range(len(test)):\n",
    "    \n",
    "    current_pred = model_2.predict(current_batch)[0]\n",
    "    \n",
    "    test_predictions.append(current_pred)\n",
    "    \n",
    "    current_batch = np.append(current_batch[:,1:,:], [[current_pred]], axis = 1)"
   ]
  },
  {
   "cell_type": "code",
   "execution_count": 66,
   "metadata": {},
   "outputs": [],
   "source": [
    "true_pred = scaler.inverse_transform(test_predictions)"
   ]
  },
  {
   "cell_type": "code",
   "execution_count": 67,
   "metadata": {},
   "outputs": [
    {
     "name": "stderr",
     "output_type": "stream",
     "text": [
      "C:\\Users\\dixq1\\anaconda3\\envs\\exam_env\\lib\\site-packages\\ipykernel_launcher.py:1: SettingWithCopyWarning: \n",
      "A value is trying to be set on a copy of a slice from a DataFrame.\n",
      "Try using .loc[row_indexer,col_indexer] = value instead\n",
      "\n",
      "See the caveats in the documentation: https://pandas.pydata.org/pandas-docs/stable/user_guide/indexing.html#returning-a-view-versus-a-copy\n",
      "  \"\"\"Entry point for launching an IPython kernel.\n"
     ]
    }
   ],
   "source": [
    "test['pred_2'] = true_pred"
   ]
  },
  {
   "cell_type": "code",
   "execution_count": 68,
   "metadata": {},
   "outputs": [
    {
     "data": {
      "text/plain": [
       "<AxesSubplot:>"
      ]
     },
     "execution_count": 68,
     "metadata": {},
     "output_type": "execute_result"
    },
    {
     "data": {
      "image/png": "[encoded data removed]",
      "text/plain": [
       "<Figure size 432x288 with 1 Axes>"
      ]
     },
     "metadata": {
      "needs_background": "light"
     },
     "output_type": "display_data"
    }
   ],
   "source": [
    "test.plot()"
   ]
  },
  {
   "cell_type": "code",
   "execution_count": null,
   "metadata": {},
   "outputs": [],
   "source": []
  }
 ],
 "metadata": {
  "kernelspec": {
   "display_name": "Python 3",
   "language": "python",
   "name": "python3"
  },
  "language_info": {
   "codemirror_mode": {
    "name": "ipython",
    "version": 3
   },
   "file_extension": ".py",
   "mimetype": "text/x-python",
   "name": "python",
   "nbconvert_exporter": "python",
   "pygments_lexer": "ipython3",
   "version": "3.7.8"
  }
 },
 "nbformat": 4,
 "nbformat_minor": 4
}
