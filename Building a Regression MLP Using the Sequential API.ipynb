{
 "cells": [
  {
   "cell_type": "markdown",
   "metadata": {},
   "source": [
    "# Package import"
   ]
  },
  {
   "cell_type": "code",
   "execution_count": 1,
   "metadata": {},
   "outputs": [],
   "source": [
    "import tensorflow as tf\n",
    "from tensorflow import keras\n",
    "import pandas as pd\n",
    "import matplotlib.pyplot as plt"
   ]
  },
  {
   "cell_type": "code",
   "execution_count": 2,
   "metadata": {},
   "outputs": [],
   "source": [
    "physical_devices = tf.config.list_physical_devices('GPU') \n",
    "tf.config.experimental.set_memory_growth(physical_devices[0], True)"
   ]
  },
  {
   "cell_type": "code",
   "execution_count": 3,
   "metadata": {},
   "outputs": [],
   "source": [
    "from sklearn.datasets import fetch_california_housing\n",
    "from sklearn.model_selection import train_test_split\n",
    "from sklearn.preprocessing import StandardScaler\n",
    "from sklearn.metrics import mean_squared_error"
   ]
  },
  {
   "cell_type": "markdown",
   "metadata": {},
   "source": [
    "# Data Loading and preparation"
   ]
  },
  {
   "cell_type": "code",
   "execution_count": 4,
   "metadata": {},
   "outputs": [],
   "source": [
    "housing = fetch_california_housing()\n",
    "X_train_full, X_test, y_train_full, y_test = train_test_split(housing.data, housing.target)\n",
    "X_train, X_valid, y_train, y_valid = train_test_split(X_train_full, y_train_full)"
   ]
  },
  {
   "cell_type": "code",
   "execution_count": 5,
   "metadata": {},
   "outputs": [],
   "source": [
    "scaler = StandardScaler()\n",
    "X_train = scaler.fit_transform(X_train)\n",
    "X_valid = scaler.transform(X_valid)\n",
    "X_test = scaler.transform(X_test)"
   ]
  },
  {
   "cell_type": "markdown",
   "metadata": {},
   "source": [
    "# Model Preparation"
   ]
  },
  {
   "cell_type": "code",
   "execution_count": 6,
   "metadata": {},
   "outputs": [],
   "source": [
    "model = keras.models.Sequential([\n",
    "    keras.layers.Dense(30, activation=\"relu\", input_shape=X_train.shape[1:]),\n",
    "    keras.layers.Dense(1)\n",
    "])"
   ]
  },
  {
   "cell_type": "code",
   "execution_count": 7,
   "metadata": {},
   "outputs": [],
   "source": [
    "model.compile(loss=\"mean_squared_error\", optimizer=\"sgd\")"
   ]
  },
  {
   "cell_type": "code",
   "execution_count": 8,
   "metadata": {},
   "outputs": [
    {
     "name": "stdout",
     "output_type": "stream",
     "text": [
      "Model: \"sequential\"\n",
      "_________________________________________________________________\n",
      "Layer (type)                 Output Shape              Param #   \n",
      "=================================================================\n",
      "dense (Dense)                (None, 30)                270       \n",
      "_________________________________________________________________\n",
      "dense_1 (Dense)              (None, 1)                 31        \n",
      "=================================================================\n",
      "Total params: 301\n",
      "Trainable params: 301\n",
      "Non-trainable params: 0\n",
      "_________________________________________________________________\n"
     ]
    }
   ],
   "source": [
    "model.summary()"
   ]
  },
  {
   "cell_type": "markdown",
   "metadata": {},
   "source": [
    "# Training the model"
   ]
  },
  {
   "cell_type": "code",
   "execution_count": 9,
   "metadata": {},
   "outputs": [
    {
     "name": "stdout",
     "output_type": "stream",
     "text": [
      "Train on 11610 samples, validate on 3870 samples\n",
      "Epoch 1/20\n",
      "11610/11610 [==============================] - 1s 91us/sample - loss: 1.0545 - val_loss: 0.6128\n",
      "Epoch 2/20\n",
      "11610/11610 [==============================] - 1s 57us/sample - loss: 0.5088 - val_loss: 0.5187\n",
      "Epoch 3/20\n",
      "11610/11610 [==============================] - 1s 66us/sample - loss: 0.4658 - val_loss: 0.4988\n",
      "Epoch 4/20\n",
      "11610/11610 [==============================] - 1s 60us/sample - loss: 0.4476 - val_loss: 0.4778\n",
      "Epoch 5/20\n",
      "11610/11610 [==============================] - 1s 58us/sample - loss: 0.4337 - val_loss: 0.4606\n",
      "Epoch 6/20\n",
      "11610/11610 [==============================] - 1s 57us/sample - loss: 0.4243 - val_loss: 0.4508\n",
      "Epoch 7/20\n",
      "11610/11610 [==============================] - 1s 57us/sample - loss: 0.4163 - val_loss: 0.4478\n",
      "Epoch 8/20\n",
      "11610/11610 [==============================] - 1s 70us/sample - loss: 0.4123 - val_loss: 0.4532\n",
      "Epoch 9/20\n",
      "11610/11610 [==============================] - 1s 60us/sample - loss: 0.4070 - val_loss: 0.4380\n",
      "Epoch 10/20\n",
      "11610/11610 [==============================] - 1s 59us/sample - loss: 0.4011 - val_loss: 0.4254\n",
      "Epoch 11/20\n",
      "11610/11610 [==============================] - 1s 57us/sample - loss: 0.3953 - val_loss: 0.4313\n",
      "Epoch 12/20\n",
      "11610/11610 [==============================] - 1s 58us/sample - loss: 0.3936 - val_loss: 0.4324\n",
      "Epoch 13/20\n",
      "11610/11610 [==============================] - 1s 57us/sample - loss: 0.3883 - val_loss: 0.4300\n",
      "Epoch 14/20\n",
      "11610/11610 [==============================] - 1s 60us/sample - loss: 0.3854 - val_loss: 0.4155\n",
      "Epoch 15/20\n",
      "11610/11610 [==============================] - 1s 56us/sample - loss: 0.3823 - val_loss: 0.4170\n",
      "Epoch 16/20\n",
      "11610/11610 [==============================] - 1s 58us/sample - loss: 0.3783 - val_loss: 0.4117\n",
      "Epoch 17/20\n",
      "11610/11610 [==============================] - 1s 56us/sample - loss: 0.3787 - val_loss: 0.4176\n",
      "Epoch 18/20\n",
      "11610/11610 [==============================] - 1s 56us/sample - loss: 0.3751 - val_loss: 0.4116\n",
      "Epoch 19/20\n",
      "11610/11610 [==============================] - 1s 56us/sample - loss: 0.3751 - val_loss: 0.4093\n",
      "Epoch 20/20\n",
      "11610/11610 [==============================] - 1s 56us/sample - loss: 0.3718 - val_loss: 0.4035\n"
     ]
    }
   ],
   "source": [
    "history = model.fit(X_train, y_train, epochs=20, validation_data=(X_valid, y_valid))"
   ]
  },
  {
   "cell_type": "markdown",
   "metadata": {},
   "source": [
    "# Results Analysis|"
   ]
  },
  {
   "cell_type": "code",
   "execution_count": 10,
   "metadata": {},
   "outputs": [
    {
     "name": "stdout",
     "output_type": "stream",
     "text": [
      "5160/5160 [==============================] - 0s 29us/sample - loss: 0.3549\n"
     ]
    }
   ],
   "source": [
    "mse_test = model.evaluate(X_test, y_test)"
   ]
  },
  {
   "cell_type": "code",
   "execution_count": 11,
   "metadata": {},
   "outputs": [],
   "source": [
    "y_pred = model.predict(X_test)\n",
    "y_pred = [item for sublist in y_pred for item in sublist]"
   ]
  },
  {
   "cell_type": "code",
   "execution_count": 12,
   "metadata": {},
   "outputs": [
    {
     "name": "stdout",
     "output_type": "stream",
     "text": [
      "Mean Squared Error: 0.35494400672705056\n"
     ]
    }
   ],
   "source": [
    "print(\"Mean Squared Error: \" + str(mean_squared_error(y_test, y_pred)))"
   ]
  },
  {
   "cell_type": "code",
   "execution_count": 13,
   "metadata": {},
   "outputs": [
    {
     "data": {
      "image/png": "[encoded data removed]",
      "text/plain": [
       "<Figure size 576x360 with 1 Axes>"
      ]
     },
     "metadata": {
      "needs_background": "light"
     },
     "output_type": "display_data"
    }
   ],
   "source": [
    "pd.DataFrame(history.history).plot(figsize = (8,5))\n",
    "plt.grid(True)\n",
    "plt.gca().set_ylim(0,1) # set the vertical range to [0-1]\n",
    "plt.show()"
   ]
  }
 ],
 "metadata": {
  "kernelspec": {
   "display_name": "Python 3",
   "language": "python",
   "name": "python3"
  },
  "language_info": {
   "codemirror_mode": {
    "name": "ipython",
    "version": 3
   },
   "file_extension": ".py",
   "mimetype": "text/x-python",
   "name": "python",
   "nbconvert_exporter": "python",
   "pygments_lexer": "ipython3",
   "version": "3.7.8"
  }
 },
 "nbformat": 4,
 "nbformat_minor": 4
}
