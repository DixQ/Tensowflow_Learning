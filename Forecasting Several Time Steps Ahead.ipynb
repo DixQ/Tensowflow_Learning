{
 "cells": [
  {
   "cell_type": "code",
   "execution_count": 2,
   "metadata": {},
   "outputs": [],
   "source": [
    "import tensorflow as tf\n",
    "physical_devices = tf.config.list_physical_devices('GPU') \n",
    "tf.config.experimental.set_memory_growth(physical_devices[0], True)"
   ]
  },
  {
   "cell_type": "code",
   "execution_count": 3,
   "metadata": {},
   "outputs": [],
   "source": [
    "from tensorflow import keras\n",
    "from tensorflow.keras.preprocessing.image import ImageDataGenerator\n",
    "import numpy as np"
   ]
  },
  {
   "cell_type": "code",
   "execution_count": 15,
   "metadata": {},
   "outputs": [],
   "source": [
    "%matplotlib inline\n",
    "import matplotlib.pyplot as plt"
   ]
  },
  {
   "cell_type": "code",
   "execution_count": 4,
   "metadata": {},
   "outputs": [],
   "source": [
    "def generate_time_series(batch_size, n_steps):\n",
    "    freq1, freq2, offsets1, offsets2 = np.random.rand(4, batch_size, 1)\n",
    "    time = np.linspace(0, 1, n_steps)\n",
    "    series = 0.5 * np.sin((time - offsets1) * (freq1 * 10 + 10)) # wave 1\n",
    "    series += 0.2 * np.sin((time - offsets2) * (freq2 * 20 + 20)) # + wave 2\n",
    "    series += 0.1 * (np.random.rand(batch_size, n_steps) - 0.5) # + noise\n",
    "    return series[..., np.newaxis].astype(np.float32)"
   ]
  },
  {
   "cell_type": "code",
   "execution_count": 5,
   "metadata": {},
   "outputs": [],
   "source": [
    "n_steps = 50\n",
    "series = generate_time_series(10000, n_steps + 1)\n",
    "X_train, y_train = series[:7000, :n_steps], series[:7000, -1]\n",
    "X_valid, y_valid = series[7000:9000, :n_steps], series[7000:9000, -1]\n",
    "X_test, y_test = series[9000:, :n_steps], series[9000:, -1]"
   ]
  },
  {
   "cell_type": "code",
   "execution_count": 6,
   "metadata": {},
   "outputs": [],
   "source": [
    "model = keras.models.Sequential([\n",
    "    keras.layers.SimpleRNN(25, return_sequences = True, input_shape=[None, 1]),\n",
    "    keras.layers.SimpleRNN(25),\n",
    "    keras.layers.Dense(1)\n",
    "])"
   ]
  },
  {
   "cell_type": "code",
   "execution_count": 7,
   "metadata": {},
   "outputs": [],
   "source": [
    "model.compile(loss=\"mse\", optimizer = 'adam', metrics = [tf.keras.metrics.MeanSquaredError()])"
   ]
  },
  {
   "cell_type": "code",
   "execution_count": 8,
   "metadata": {},
   "outputs": [
    {
     "name": "stdout",
     "output_type": "stream",
     "text": [
      "Train on 7000 samples, validate on 2000 samples\n",
      "Epoch 1/10\n",
      "7000/7000 [==============================] - 9s 1ms/sample - loss: 0.0433 - mean_squared_error: 0.0433 - val_loss: 0.0065 - val_mean_squared_error: 0.0065\n",
      "Epoch 2/10\n",
      "7000/7000 [==============================] - 8s 1ms/sample - loss: 0.0052 - mean_squared_error: 0.0052 - val_loss: 0.0041 - val_mean_squared_error: 0.0041\n",
      "Epoch 3/10\n",
      "7000/7000 [==============================] - 7s 1ms/sample - loss: 0.0038 - mean_squared_error: 0.0038 - val_loss: 0.0033 - val_mean_squared_error: 0.0033\n",
      "Epoch 4/10\n",
      "7000/7000 [==============================] - 7s 1ms/sample - loss: 0.0033 - mean_squared_error: 0.0033 - val_loss: 0.0030 - val_mean_squared_error: 0.0030\n",
      "Epoch 5/10\n",
      "7000/7000 [==============================] - 7s 1ms/sample - loss: 0.0031 - mean_squared_error: 0.0031 - val_loss: 0.0029 - val_mean_squared_error: 0.0029\n",
      "Epoch 6/10\n",
      "7000/7000 [==============================] - 7s 1ms/sample - loss: 0.0030 - mean_squared_error: 0.0030 - val_loss: 0.0028 - val_mean_squared_error: 0.0028\n",
      "Epoch 7/10\n",
      "7000/7000 [==============================] - 7s 1ms/sample - loss: 0.0029 - mean_squared_error: 0.0029 - val_loss: 0.0027 - val_mean_squared_error: 0.0027\n",
      "Epoch 8/10\n",
      "7000/7000 [==============================] - 7s 1ms/sample - loss: 0.0029 - mean_squared_error: 0.0029 - val_loss: 0.0028 - val_mean_squared_error: 0.0028\n",
      "Epoch 9/10\n",
      "7000/7000 [==============================] - 7s 1ms/sample - loss: 0.0029 - mean_squared_error: 0.0029 - val_loss: 0.0029 - val_mean_squared_error: 0.0029\n",
      "Epoch 10/10\n",
      "7000/7000 [==============================] - 7s 1ms/sample - loss: 0.0028 - mean_squared_error: 0.0028 - val_loss: 0.0028 - val_mean_squared_error: 0.0028\n"
     ]
    }
   ],
   "source": [
    "history = model.fit(X_train, y_train, epochs = 10, validation_data = (X_valid, y_valid))"
   ]
  },
  {
   "cell_type": "code",
   "execution_count": 12,
   "metadata": {},
   "outputs": [],
   "source": [
    "series = generate_time_series(1, n_steps + 10)\n",
    "X_new, Y_new = series[:, :n_steps], series[:, n_steps:]\n",
    "X = X_new\n",
    "for step_ahead in range(10):\n",
    "    y_pred_one = model.predict(X[:, step_ahead:])[:, np.newaxis, :]\n",
    "    X = np.concatenate([X, y_pred_one], axis=1)\n",
    "Y_pred = X[:, n_steps:]"
   ]
  },
  {
   "cell_type": "code",
   "execution_count": 37,
   "metadata": {},
   "outputs": [
    {
     "data": {
      "text/plain": [
       "array([[[0.5306229 ],\n",
       "        [0.63327557],\n",
       "        [0.65679276],\n",
       "        [0.6029941 ],\n",
       "        [0.48471808],\n",
       "        [0.35099503],\n",
       "        [0.24551986],\n",
       "        [0.17174028],\n",
       "        [0.10406645],\n",
       "        [0.04242638]]], dtype=float32)"
      ]
     },
     "execution_count": 37,
     "metadata": {},
     "output_type": "execute_result"
    }
   ],
   "source": [
    "Y_pred"
   ]
  },
  {
   "cell_type": "code",
   "execution_count": null,
   "metadata": {},
   "outputs": [],
   "source": []
  },
  {
   "cell_type": "code",
   "execution_count": null,
   "metadata": {},
   "outputs": [],
   "source": []
  },
  {
   "cell_type": "code",
   "execution_count": null,
   "metadata": {},
   "outputs": [],
   "source": []
  },
  {
   "cell_type": "code",
   "execution_count": null,
   "metadata": {},
   "outputs": [],
   "source": []
  },
  {
   "cell_type": "code",
   "execution_count": 39,
   "metadata": {},
   "outputs": [],
   "source": [
    "Y = np.empty((10000, n_steps, 10)) # each target is a sequence of 10D vectors\n",
    "for step_ahead in range(1, 10 + 1):\n",
    "    Y[:, :, step_ahead - 1] = series[:, step_ahead:step_ahead + n_steps, 0]\n",
    "Y_train = Y[:7000]\n",
    "Y_valid = Y[7000:9000]\n",
    "Y_test = Y[9000:]"
   ]
  },
  {
   "cell_type": "code",
   "execution_count": 41,
   "metadata": {},
   "outputs": [],
   "source": [
    "model = keras.models.Sequential([\n",
    "    keras.layers.SimpleRNN(20, return_sequences=True, input_shape=[None, 1]),\n",
    "    keras.layers.SimpleRNN(20, return_sequences=True),\n",
    "    keras.layers.TimeDistributed(keras.layers.Dense(10))\n",
    "])"
   ]
  },
  {
   "cell_type": "code",
   "execution_count": 43,
   "metadata": {},
   "outputs": [],
   "source": [
    "def last_time_step_mse(Y_true, Y_pred):\n",
    "    return keras.metrics.mean_squared_error(Y_true[:, -1], Y_pred[:, -1])\n",
    "optimizer = keras.optimizers.Adam(lr=0.01)\n",
    "model.compile(loss=\"mse\", optimizer=optimizer, metrics=[last_time_step_mse])"
   ]
  },
  {
   "cell_type": "code",
   "execution_count": 44,
   "metadata": {},
   "outputs": [
    {
     "name": "stdout",
     "output_type": "stream",
     "text": [
      "Train on 7000 samples, validate on 2000 samples\n",
      "Epoch 1/10\n",
      "7000/7000 [==============================] - 9s 1ms/sample - loss: 0.0405 - last_time_step_mse: 0.0533 - val_loss: 0.0016 - val_last_time_step_mse: 0.0030\n",
      "Epoch 2/10\n",
      "7000/7000 [==============================] - 8s 1ms/sample - loss: 0.0015 - last_time_step_mse: 0.0035 - val_loss: 0.0017 - val_last_time_step_mse: 0.0044\n",
      "Epoch 3/10\n",
      "7000/7000 [==============================] - 8s 1ms/sample - loss: 0.0011 - last_time_step_mse: 0.0021 - val_loss: 8.5965e-04 - val_last_time_step_mse: 0.0020\n",
      "Epoch 4/10\n",
      "7000/7000 [==============================] - 7s 1ms/sample - loss: 0.0018 - last_time_step_mse: 0.0042 - val_loss: 0.0016 - val_last_time_step_mse: 0.0019\n",
      "Epoch 5/10\n",
      "7000/7000 [==============================] - 7s 1ms/sample - loss: 4.8514e-04 - last_time_step_mse: 6.3747e-04 - val_loss: 0.0011 - val_last_time_step_mse: 0.0030\n",
      "Epoch 6/10\n",
      "7000/7000 [==============================] - 8s 1ms/sample - loss: 5.4447e-04 - last_time_step_mse: 9.5213e-04 - val_loss: 3.5149e-04 - val_last_time_step_mse: 6.2116e-04\n",
      "Epoch 7/10\n",
      "7000/7000 [==============================] - 7s 1ms/sample - loss: 5.9691e-04 - last_time_step_mse: 0.0011 - val_loss: 3.1074e-04 - val_last_time_step_mse: 3.2955e-04\n",
      "Epoch 8/10\n",
      "7000/7000 [==============================] - 8s 1ms/sample - loss: 0.0042 - last_time_step_mse: 0.0106 - val_loss: 4.9927e-04 - val_last_time_step_mse: 3.6784e-04\n",
      "Epoch 9/10\n",
      "7000/7000 [==============================] - 7s 1ms/sample - loss: 2.9180e-04 - last_time_step_mse: 2.5581e-04 - val_loss: 2.0965e-04 - val_last_time_step_mse: 2.1038e-04\n",
      "Epoch 10/10\n",
      "7000/7000 [==============================] - 7s 1ms/sample - loss: 1.8544e-04 - last_time_step_mse: 2.0763e-04 - val_loss: 1.7624e-04 - val_last_time_step_mse: 1.7740e-04\n"
     ]
    }
   ],
   "source": [
    "history = model.fit(X_train, Y_train, epochs = 10, validation_data = (X_valid, Y_valid))"
   ]
  },
  {
   "cell_type": "code",
   "execution_count": null,
   "metadata": {},
   "outputs": [],
   "source": []
  }
 ],
 "metadata": {
  "kernelspec": {
   "display_name": "Python 3",
   "language": "python",
   "name": "python3"
  },
  "language_info": {
   "codemirror_mode": {
    "name": "ipython",
    "version": 3
   },
   "file_extension": ".py",
   "mimetype": "text/x-python",
   "name": "python",
   "nbconvert_exporter": "python",
   "pygments_lexer": "ipython3",
   "version": "3.7.8"
  }
 },
 "nbformat": 4,
 "nbformat_minor": 4
}
